{
 "cells": [
  {
   "cell_type": "markdown",
   "metadata": {},
   "source": [
    "# MELBOURNE PROJECT"
   ]
  },
  {
   "cell_type": "code",
   "execution_count": 1,
   "metadata": {},
   "outputs": [
    {
     "name": "stdout",
     "output_type": "stream",
     "text": [
      "The shape of the data:  (34857, 21)\n"
     ]
    },
    {
     "data": {
      "text/html": [
       "<div>\n",
       "<style scoped>\n",
       "    .dataframe tbody tr th:only-of-type {\n",
       "        vertical-align: middle;\n",
       "    }\n",
       "\n",
       "    .dataframe tbody tr th {\n",
       "        vertical-align: top;\n",
       "    }\n",
       "\n",
       "    .dataframe thead th {\n",
       "        text-align: right;\n",
       "    }\n",
       "</style>\n",
       "<table border=\"1\" class=\"dataframe\">\n",
       "  <thead>\n",
       "    <tr style=\"text-align: right;\">\n",
       "      <th></th>\n",
       "      <th>Suburb</th>\n",
       "      <th>Address</th>\n",
       "      <th>Rooms</th>\n",
       "      <th>Type</th>\n",
       "      <th>Price</th>\n",
       "      <th>Method</th>\n",
       "      <th>SellerG</th>\n",
       "      <th>Date</th>\n",
       "      <th>Distance</th>\n",
       "      <th>Postcode</th>\n",
       "      <th>...</th>\n",
       "      <th>Bathroom</th>\n",
       "      <th>Car</th>\n",
       "      <th>Landsize</th>\n",
       "      <th>BuildingArea</th>\n",
       "      <th>YearBuilt</th>\n",
       "      <th>CouncilArea</th>\n",
       "      <th>Lattitude</th>\n",
       "      <th>Longtitude</th>\n",
       "      <th>Regionname</th>\n",
       "      <th>Propertycount</th>\n",
       "    </tr>\n",
       "  </thead>\n",
       "  <tbody>\n",
       "    <tr>\n",
       "      <th>0</th>\n",
       "      <td>Abbotsford</td>\n",
       "      <td>68 Studley St</td>\n",
       "      <td>2</td>\n",
       "      <td>h</td>\n",
       "      <td>NaN</td>\n",
       "      <td>SS</td>\n",
       "      <td>Jellis</td>\n",
       "      <td>3/09/2016</td>\n",
       "      <td>2.5</td>\n",
       "      <td>3067.0</td>\n",
       "      <td>...</td>\n",
       "      <td>1.0</td>\n",
       "      <td>1.0</td>\n",
       "      <td>126.0</td>\n",
       "      <td>NaN</td>\n",
       "      <td>NaN</td>\n",
       "      <td>Yarra City Council</td>\n",
       "      <td>-37.8014</td>\n",
       "      <td>144.9958</td>\n",
       "      <td>Northern Metropolitan</td>\n",
       "      <td>4019.0</td>\n",
       "    </tr>\n",
       "    <tr>\n",
       "      <th>1</th>\n",
       "      <td>Abbotsford</td>\n",
       "      <td>85 Turner St</td>\n",
       "      <td>2</td>\n",
       "      <td>h</td>\n",
       "      <td>1480000.0</td>\n",
       "      <td>S</td>\n",
       "      <td>Biggin</td>\n",
       "      <td>3/12/2016</td>\n",
       "      <td>2.5</td>\n",
       "      <td>3067.0</td>\n",
       "      <td>...</td>\n",
       "      <td>1.0</td>\n",
       "      <td>1.0</td>\n",
       "      <td>202.0</td>\n",
       "      <td>NaN</td>\n",
       "      <td>NaN</td>\n",
       "      <td>Yarra City Council</td>\n",
       "      <td>-37.7996</td>\n",
       "      <td>144.9984</td>\n",
       "      <td>Northern Metropolitan</td>\n",
       "      <td>4019.0</td>\n",
       "    </tr>\n",
       "    <tr>\n",
       "      <th>2</th>\n",
       "      <td>Abbotsford</td>\n",
       "      <td>25 Bloomburg St</td>\n",
       "      <td>2</td>\n",
       "      <td>h</td>\n",
       "      <td>1035000.0</td>\n",
       "      <td>S</td>\n",
       "      <td>Biggin</td>\n",
       "      <td>4/02/2016</td>\n",
       "      <td>2.5</td>\n",
       "      <td>3067.0</td>\n",
       "      <td>...</td>\n",
       "      <td>1.0</td>\n",
       "      <td>0.0</td>\n",
       "      <td>156.0</td>\n",
       "      <td>79.0</td>\n",
       "      <td>1900.0</td>\n",
       "      <td>Yarra City Council</td>\n",
       "      <td>-37.8079</td>\n",
       "      <td>144.9934</td>\n",
       "      <td>Northern Metropolitan</td>\n",
       "      <td>4019.0</td>\n",
       "    </tr>\n",
       "    <tr>\n",
       "      <th>3</th>\n",
       "      <td>Abbotsford</td>\n",
       "      <td>18/659 Victoria St</td>\n",
       "      <td>3</td>\n",
       "      <td>u</td>\n",
       "      <td>NaN</td>\n",
       "      <td>VB</td>\n",
       "      <td>Rounds</td>\n",
       "      <td>4/02/2016</td>\n",
       "      <td>2.5</td>\n",
       "      <td>3067.0</td>\n",
       "      <td>...</td>\n",
       "      <td>2.0</td>\n",
       "      <td>1.0</td>\n",
       "      <td>0.0</td>\n",
       "      <td>NaN</td>\n",
       "      <td>NaN</td>\n",
       "      <td>Yarra City Council</td>\n",
       "      <td>-37.8114</td>\n",
       "      <td>145.0116</td>\n",
       "      <td>Northern Metropolitan</td>\n",
       "      <td>4019.0</td>\n",
       "    </tr>\n",
       "    <tr>\n",
       "      <th>4</th>\n",
       "      <td>Abbotsford</td>\n",
       "      <td>5 Charles St</td>\n",
       "      <td>3</td>\n",
       "      <td>h</td>\n",
       "      <td>1465000.0</td>\n",
       "      <td>SP</td>\n",
       "      <td>Biggin</td>\n",
       "      <td>4/03/2017</td>\n",
       "      <td>2.5</td>\n",
       "      <td>3067.0</td>\n",
       "      <td>...</td>\n",
       "      <td>2.0</td>\n",
       "      <td>0.0</td>\n",
       "      <td>134.0</td>\n",
       "      <td>150.0</td>\n",
       "      <td>1900.0</td>\n",
       "      <td>Yarra City Council</td>\n",
       "      <td>-37.8093</td>\n",
       "      <td>144.9944</td>\n",
       "      <td>Northern Metropolitan</td>\n",
       "      <td>4019.0</td>\n",
       "    </tr>\n",
       "  </tbody>\n",
       "</table>\n",
       "<p>5 rows × 21 columns</p>\n",
       "</div>"
      ],
      "text/plain": [
       "       Suburb             Address  Rooms Type      Price Method SellerG  \\\n",
       "0  Abbotsford       68 Studley St      2    h        NaN     SS  Jellis   \n",
       "1  Abbotsford        85 Turner St      2    h  1480000.0      S  Biggin   \n",
       "2  Abbotsford     25 Bloomburg St      2    h  1035000.0      S  Biggin   \n",
       "3  Abbotsford  18/659 Victoria St      3    u        NaN     VB  Rounds   \n",
       "4  Abbotsford        5 Charles St      3    h  1465000.0     SP  Biggin   \n",
       "\n",
       "        Date  Distance  Postcode  ...  Bathroom  Car  Landsize  BuildingArea  \\\n",
       "0  3/09/2016       2.5    3067.0  ...       1.0  1.0     126.0           NaN   \n",
       "1  3/12/2016       2.5    3067.0  ...       1.0  1.0     202.0           NaN   \n",
       "2  4/02/2016       2.5    3067.0  ...       1.0  0.0     156.0          79.0   \n",
       "3  4/02/2016       2.5    3067.0  ...       2.0  1.0       0.0           NaN   \n",
       "4  4/03/2017       2.5    3067.0  ...       2.0  0.0     134.0         150.0   \n",
       "\n",
       "   YearBuilt         CouncilArea Lattitude  Longtitude             Regionname  \\\n",
       "0        NaN  Yarra City Council  -37.8014    144.9958  Northern Metropolitan   \n",
       "1        NaN  Yarra City Council  -37.7996    144.9984  Northern Metropolitan   \n",
       "2     1900.0  Yarra City Council  -37.8079    144.9934  Northern Metropolitan   \n",
       "3        NaN  Yarra City Council  -37.8114    145.0116  Northern Metropolitan   \n",
       "4     1900.0  Yarra City Council  -37.8093    144.9944  Northern Metropolitan   \n",
       "\n",
       "  Propertycount  \n",
       "0        4019.0  \n",
       "1        4019.0  \n",
       "2        4019.0  \n",
       "3        4019.0  \n",
       "4        4019.0  \n",
       "\n",
       "[5 rows x 21 columns]"
      ]
     },
     "execution_count": 1,
     "metadata": {},
     "output_type": "execute_result"
    }
   ],
   "source": [
    "import pandas as pd\n",
    "import numpy as np\n",
    "dataraw = pd.read_csv(\"Melbourne_housing_FULL.csv\")\n",
    "print(\"The shape of the data: \", dataraw.shape)\n",
    "dataraw.head(5)"
   ]
  },
  {
   "cell_type": "markdown",
   "metadata": {},
   "source": [
    "# 1. Examine and explore data (visualization, interactions among features)"
   ]
  },
  {
   "cell_type": "code",
   "execution_count": 2,
   "metadata": {},
   "outputs": [],
   "source": [
    "# In my opinion, there are some features that are not usesful in this data, so I decided to choose the features\n",
    "# I think they are suitable for this project and we are going to use the data to create a model (Linear Regression) \n",
    "# to predict a houses value. But there are three Categories features so I am not going to choose them into \n",
    "# the data"
   ]
  },
  {
   "cell_type": "code",
   "execution_count": 3,
   "metadata": {},
   "outputs": [
    {
     "data": {
      "text/html": [
       "<div>\n",
       "<style scoped>\n",
       "    .dataframe tbody tr th:only-of-type {\n",
       "        vertical-align: middle;\n",
       "    }\n",
       "\n",
       "    .dataframe tbody tr th {\n",
       "        vertical-align: top;\n",
       "    }\n",
       "\n",
       "    .dataframe thead th {\n",
       "        text-align: right;\n",
       "    }\n",
       "</style>\n",
       "<table border=\"1\" class=\"dataframe\">\n",
       "  <thead>\n",
       "    <tr style=\"text-align: right;\">\n",
       "      <th></th>\n",
       "      <th>Rooms</th>\n",
       "      <th>Price</th>\n",
       "      <th>Distance</th>\n",
       "      <th>Bedroom2</th>\n",
       "      <th>Bathroom</th>\n",
       "      <th>Car</th>\n",
       "      <th>Landsize</th>\n",
       "      <th>BuildingArea</th>\n",
       "      <th>YearBuilt</th>\n",
       "      <th>Lattitude</th>\n",
       "      <th>Longtitude</th>\n",
       "      <th>Propertycount</th>\n",
       "    </tr>\n",
       "  </thead>\n",
       "  <tbody>\n",
       "    <tr>\n",
       "      <th>0</th>\n",
       "      <td>2</td>\n",
       "      <td>NaN</td>\n",
       "      <td>2.5</td>\n",
       "      <td>2.0</td>\n",
       "      <td>1.0</td>\n",
       "      <td>1.0</td>\n",
       "      <td>126.0</td>\n",
       "      <td>NaN</td>\n",
       "      <td>NaN</td>\n",
       "      <td>-37.8014</td>\n",
       "      <td>144.9958</td>\n",
       "      <td>4019.0</td>\n",
       "    </tr>\n",
       "    <tr>\n",
       "      <th>1</th>\n",
       "      <td>2</td>\n",
       "      <td>1480000.0</td>\n",
       "      <td>2.5</td>\n",
       "      <td>2.0</td>\n",
       "      <td>1.0</td>\n",
       "      <td>1.0</td>\n",
       "      <td>202.0</td>\n",
       "      <td>NaN</td>\n",
       "      <td>NaN</td>\n",
       "      <td>-37.7996</td>\n",
       "      <td>144.9984</td>\n",
       "      <td>4019.0</td>\n",
       "    </tr>\n",
       "    <tr>\n",
       "      <th>2</th>\n",
       "      <td>2</td>\n",
       "      <td>1035000.0</td>\n",
       "      <td>2.5</td>\n",
       "      <td>2.0</td>\n",
       "      <td>1.0</td>\n",
       "      <td>0.0</td>\n",
       "      <td>156.0</td>\n",
       "      <td>79.0</td>\n",
       "      <td>1900.0</td>\n",
       "      <td>-37.8079</td>\n",
       "      <td>144.9934</td>\n",
       "      <td>4019.0</td>\n",
       "    </tr>\n",
       "    <tr>\n",
       "      <th>3</th>\n",
       "      <td>3</td>\n",
       "      <td>NaN</td>\n",
       "      <td>2.5</td>\n",
       "      <td>3.0</td>\n",
       "      <td>2.0</td>\n",
       "      <td>1.0</td>\n",
       "      <td>0.0</td>\n",
       "      <td>NaN</td>\n",
       "      <td>NaN</td>\n",
       "      <td>-37.8114</td>\n",
       "      <td>145.0116</td>\n",
       "      <td>4019.0</td>\n",
       "    </tr>\n",
       "    <tr>\n",
       "      <th>4</th>\n",
       "      <td>3</td>\n",
       "      <td>1465000.0</td>\n",
       "      <td>2.5</td>\n",
       "      <td>3.0</td>\n",
       "      <td>2.0</td>\n",
       "      <td>0.0</td>\n",
       "      <td>134.0</td>\n",
       "      <td>150.0</td>\n",
       "      <td>1900.0</td>\n",
       "      <td>-37.8093</td>\n",
       "      <td>144.9944</td>\n",
       "      <td>4019.0</td>\n",
       "    </tr>\n",
       "  </tbody>\n",
       "</table>\n",
       "</div>"
      ],
      "text/plain": [
       "   Rooms      Price  Distance  Bedroom2  Bathroom  Car  Landsize  \\\n",
       "0      2        NaN       2.5       2.0       1.0  1.0     126.0   \n",
       "1      2  1480000.0       2.5       2.0       1.0  1.0     202.0   \n",
       "2      2  1035000.0       2.5       2.0       1.0  0.0     156.0   \n",
       "3      3        NaN       2.5       3.0       2.0  1.0       0.0   \n",
       "4      3  1465000.0       2.5       3.0       2.0  0.0     134.0   \n",
       "\n",
       "   BuildingArea  YearBuilt  Lattitude  Longtitude  Propertycount  \n",
       "0           NaN        NaN   -37.8014    144.9958         4019.0  \n",
       "1           NaN        NaN   -37.7996    144.9984         4019.0  \n",
       "2          79.0     1900.0   -37.8079    144.9934         4019.0  \n",
       "3           NaN        NaN   -37.8114    145.0116         4019.0  \n",
       "4         150.0     1900.0   -37.8093    144.9944         4019.0  "
      ]
     },
     "execution_count": 3,
     "metadata": {},
     "output_type": "execute_result"
    }
   ],
   "source": [
    "data = dataraw.drop(columns=['Suburb','Address','SellerG','Date','Postcode','CouncilArea',\n",
    "                             'Type','Method','Regionname'])\n",
    "data.head(5)"
   ]
  },
  {
   "cell_type": "code",
   "execution_count": 4,
   "metadata": {},
   "outputs": [
    {
     "data": {
      "text/html": [
       "<div>\n",
       "<style scoped>\n",
       "    .dataframe tbody tr th:only-of-type {\n",
       "        vertical-align: middle;\n",
       "    }\n",
       "\n",
       "    .dataframe tbody tr th {\n",
       "        vertical-align: top;\n",
       "    }\n",
       "\n",
       "    .dataframe thead th {\n",
       "        text-align: right;\n",
       "    }\n",
       "</style>\n",
       "<table border=\"1\" class=\"dataframe\">\n",
       "  <thead>\n",
       "    <tr style=\"text-align: right;\">\n",
       "      <th></th>\n",
       "      <th>Rooms</th>\n",
       "      <th>Price</th>\n",
       "      <th>Distance</th>\n",
       "      <th>Bedroom2</th>\n",
       "      <th>Bathroom</th>\n",
       "      <th>Car</th>\n",
       "      <th>Landsize</th>\n",
       "      <th>BuildingArea</th>\n",
       "      <th>YearBuilt</th>\n",
       "      <th>Lattitude</th>\n",
       "      <th>Longtitude</th>\n",
       "      <th>Propertycount</th>\n",
       "    </tr>\n",
       "  </thead>\n",
       "  <tbody>\n",
       "    <tr>\n",
       "      <th>2</th>\n",
       "      <td>2</td>\n",
       "      <td>1035000.0</td>\n",
       "      <td>2.5</td>\n",
       "      <td>2.0</td>\n",
       "      <td>1.0</td>\n",
       "      <td>0.0</td>\n",
       "      <td>156.0</td>\n",
       "      <td>79.0</td>\n",
       "      <td>1900.0</td>\n",
       "      <td>-37.8079</td>\n",
       "      <td>144.9934</td>\n",
       "      <td>4019.0</td>\n",
       "    </tr>\n",
       "    <tr>\n",
       "      <th>4</th>\n",
       "      <td>3</td>\n",
       "      <td>1465000.0</td>\n",
       "      <td>2.5</td>\n",
       "      <td>3.0</td>\n",
       "      <td>2.0</td>\n",
       "      <td>0.0</td>\n",
       "      <td>134.0</td>\n",
       "      <td>150.0</td>\n",
       "      <td>1900.0</td>\n",
       "      <td>-37.8093</td>\n",
       "      <td>144.9944</td>\n",
       "      <td>4019.0</td>\n",
       "    </tr>\n",
       "    <tr>\n",
       "      <th>6</th>\n",
       "      <td>4</td>\n",
       "      <td>1600000.0</td>\n",
       "      <td>2.5</td>\n",
       "      <td>3.0</td>\n",
       "      <td>1.0</td>\n",
       "      <td>2.0</td>\n",
       "      <td>120.0</td>\n",
       "      <td>142.0</td>\n",
       "      <td>2014.0</td>\n",
       "      <td>-37.8072</td>\n",
       "      <td>144.9941</td>\n",
       "      <td>4019.0</td>\n",
       "    </tr>\n",
       "    <tr>\n",
       "      <th>11</th>\n",
       "      <td>3</td>\n",
       "      <td>1876000.0</td>\n",
       "      <td>2.5</td>\n",
       "      <td>4.0</td>\n",
       "      <td>2.0</td>\n",
       "      <td>0.0</td>\n",
       "      <td>245.0</td>\n",
       "      <td>210.0</td>\n",
       "      <td>1910.0</td>\n",
       "      <td>-37.8024</td>\n",
       "      <td>144.9993</td>\n",
       "      <td>4019.0</td>\n",
       "    </tr>\n",
       "    <tr>\n",
       "      <th>14</th>\n",
       "      <td>2</td>\n",
       "      <td>1636000.0</td>\n",
       "      <td>2.5</td>\n",
       "      <td>2.0</td>\n",
       "      <td>1.0</td>\n",
       "      <td>2.0</td>\n",
       "      <td>256.0</td>\n",
       "      <td>107.0</td>\n",
       "      <td>1890.0</td>\n",
       "      <td>-37.8060</td>\n",
       "      <td>144.9954</td>\n",
       "      <td>4019.0</td>\n",
       "    </tr>\n",
       "  </tbody>\n",
       "</table>\n",
       "</div>"
      ],
      "text/plain": [
       "    Rooms      Price  Distance  Bedroom2  Bathroom  Car  Landsize  \\\n",
       "2       2  1035000.0       2.5       2.0       1.0  0.0     156.0   \n",
       "4       3  1465000.0       2.5       3.0       2.0  0.0     134.0   \n",
       "6       4  1600000.0       2.5       3.0       1.0  2.0     120.0   \n",
       "11      3  1876000.0       2.5       4.0       2.0  0.0     245.0   \n",
       "14      2  1636000.0       2.5       2.0       1.0  2.0     256.0   \n",
       "\n",
       "    BuildingArea  YearBuilt  Lattitude  Longtitude  Propertycount  \n",
       "2           79.0     1900.0   -37.8079    144.9934         4019.0  \n",
       "4          150.0     1900.0   -37.8093    144.9944         4019.0  \n",
       "6          142.0     2014.0   -37.8072    144.9941         4019.0  \n",
       "11         210.0     1910.0   -37.8024    144.9993         4019.0  \n",
       "14         107.0     1890.0   -37.8060    144.9954         4019.0  "
      ]
     },
     "execution_count": 4,
     "metadata": {},
     "output_type": "execute_result"
    }
   ],
   "source": [
    "import numpy as np\n",
    "import warnings\n",
    "warnings.filterwarnings('ignore')\n",
    "warnings.simplefilter('ignore')\n",
    "\n",
    "#remove the misssing values in the data\n",
    "data.dropna(inplace=True)\n",
    "\n",
    "# show the data then\n",
    "data.head(5)"
   ]
  },
  {
   "cell_type": "code",
   "execution_count": 5,
   "metadata": {
    "scrolled": false
   },
   "outputs": [
    {
     "data": {
      "text/html": [
       "<div>\n",
       "<style scoped>\n",
       "    .dataframe tbody tr th:only-of-type {\n",
       "        vertical-align: middle;\n",
       "    }\n",
       "\n",
       "    .dataframe tbody tr th {\n",
       "        vertical-align: top;\n",
       "    }\n",
       "\n",
       "    .dataframe thead th {\n",
       "        text-align: right;\n",
       "    }\n",
       "</style>\n",
       "<table border=\"1\" class=\"dataframe\">\n",
       "  <thead>\n",
       "    <tr style=\"text-align: right;\">\n",
       "      <th></th>\n",
       "      <th>Rooms</th>\n",
       "      <th>Price</th>\n",
       "      <th>Distance</th>\n",
       "      <th>Bedroom2</th>\n",
       "      <th>Bathroom</th>\n",
       "      <th>Car</th>\n",
       "      <th>Landsize</th>\n",
       "      <th>BuildingArea</th>\n",
       "      <th>YearBuilt</th>\n",
       "      <th>Lattitude</th>\n",
       "      <th>Longtitude</th>\n",
       "      <th>Propertycount</th>\n",
       "    </tr>\n",
       "  </thead>\n",
       "  <tbody>\n",
       "    <tr>\n",
       "      <th>count</th>\n",
       "      <td>8887.000000</td>\n",
       "      <td>8.887000e+03</td>\n",
       "      <td>8887.000000</td>\n",
       "      <td>8887.000000</td>\n",
       "      <td>8887.000000</td>\n",
       "      <td>8887.000000</td>\n",
       "      <td>8887.000000</td>\n",
       "      <td>8887.000000</td>\n",
       "      <td>8887.000000</td>\n",
       "      <td>8887.000000</td>\n",
       "      <td>8887.000000</td>\n",
       "      <td>8887.000000</td>\n",
       "    </tr>\n",
       "    <tr>\n",
       "      <th>mean</th>\n",
       "      <td>3.098909</td>\n",
       "      <td>1.092902e+06</td>\n",
       "      <td>11.199887</td>\n",
       "      <td>3.078204</td>\n",
       "      <td>1.646450</td>\n",
       "      <td>1.692247</td>\n",
       "      <td>523.480365</td>\n",
       "      <td>149.309477</td>\n",
       "      <td>1965.753348</td>\n",
       "      <td>-37.804501</td>\n",
       "      <td>144.991393</td>\n",
       "      <td>7475.940137</td>\n",
       "    </tr>\n",
       "    <tr>\n",
       "      <th>std</th>\n",
       "      <td>0.963786</td>\n",
       "      <td>6.793819e+05</td>\n",
       "      <td>6.813402</td>\n",
       "      <td>0.966269</td>\n",
       "      <td>0.721611</td>\n",
       "      <td>0.975464</td>\n",
       "      <td>1061.324228</td>\n",
       "      <td>87.925580</td>\n",
       "      <td>37.040876</td>\n",
       "      <td>0.090549</td>\n",
       "      <td>0.118919</td>\n",
       "      <td>4375.024364</td>\n",
       "    </tr>\n",
       "    <tr>\n",
       "      <th>min</th>\n",
       "      <td>1.000000</td>\n",
       "      <td>1.310000e+05</td>\n",
       "      <td>0.000000</td>\n",
       "      <td>0.000000</td>\n",
       "      <td>1.000000</td>\n",
       "      <td>0.000000</td>\n",
       "      <td>0.000000</td>\n",
       "      <td>0.000000</td>\n",
       "      <td>1196.000000</td>\n",
       "      <td>-38.174360</td>\n",
       "      <td>144.423790</td>\n",
       "      <td>249.000000</td>\n",
       "    </tr>\n",
       "    <tr>\n",
       "      <th>25%</th>\n",
       "      <td>2.000000</td>\n",
       "      <td>6.410000e+05</td>\n",
       "      <td>6.400000</td>\n",
       "      <td>2.000000</td>\n",
       "      <td>1.000000</td>\n",
       "      <td>1.000000</td>\n",
       "      <td>212.000000</td>\n",
       "      <td>100.000000</td>\n",
       "      <td>1945.000000</td>\n",
       "      <td>-37.858560</td>\n",
       "      <td>144.920000</td>\n",
       "      <td>4382.500000</td>\n",
       "    </tr>\n",
       "    <tr>\n",
       "      <th>50%</th>\n",
       "      <td>3.000000</td>\n",
       "      <td>9.000000e+05</td>\n",
       "      <td>10.200000</td>\n",
       "      <td>3.000000</td>\n",
       "      <td>2.000000</td>\n",
       "      <td>2.000000</td>\n",
       "      <td>478.000000</td>\n",
       "      <td>132.000000</td>\n",
       "      <td>1970.000000</td>\n",
       "      <td>-37.798700</td>\n",
       "      <td>144.998500</td>\n",
       "      <td>6567.000000</td>\n",
       "    </tr>\n",
       "    <tr>\n",
       "      <th>75%</th>\n",
       "      <td>4.000000</td>\n",
       "      <td>1.345000e+06</td>\n",
       "      <td>13.900000</td>\n",
       "      <td>4.000000</td>\n",
       "      <td>2.000000</td>\n",
       "      <td>2.000000</td>\n",
       "      <td>652.000000</td>\n",
       "      <td>180.000000</td>\n",
       "      <td>2000.000000</td>\n",
       "      <td>-37.748945</td>\n",
       "      <td>145.064560</td>\n",
       "      <td>10331.000000</td>\n",
       "    </tr>\n",
       "    <tr>\n",
       "      <th>max</th>\n",
       "      <td>12.000000</td>\n",
       "      <td>9.000000e+06</td>\n",
       "      <td>47.400000</td>\n",
       "      <td>12.000000</td>\n",
       "      <td>9.000000</td>\n",
       "      <td>10.000000</td>\n",
       "      <td>42800.000000</td>\n",
       "      <td>3112.000000</td>\n",
       "      <td>2019.000000</td>\n",
       "      <td>-37.407200</td>\n",
       "      <td>145.526350</td>\n",
       "      <td>21650.000000</td>\n",
       "    </tr>\n",
       "  </tbody>\n",
       "</table>\n",
       "</div>"
      ],
      "text/plain": [
       "             Rooms         Price     Distance     Bedroom2     Bathroom  \\\n",
       "count  8887.000000  8.887000e+03  8887.000000  8887.000000  8887.000000   \n",
       "mean      3.098909  1.092902e+06    11.199887     3.078204     1.646450   \n",
       "std       0.963786  6.793819e+05     6.813402     0.966269     0.721611   \n",
       "min       1.000000  1.310000e+05     0.000000     0.000000     1.000000   \n",
       "25%       2.000000  6.410000e+05     6.400000     2.000000     1.000000   \n",
       "50%       3.000000  9.000000e+05    10.200000     3.000000     2.000000   \n",
       "75%       4.000000  1.345000e+06    13.900000     4.000000     2.000000   \n",
       "max      12.000000  9.000000e+06    47.400000    12.000000     9.000000   \n",
       "\n",
       "               Car      Landsize  BuildingArea    YearBuilt    Lattitude  \\\n",
       "count  8887.000000   8887.000000   8887.000000  8887.000000  8887.000000   \n",
       "mean      1.692247    523.480365    149.309477  1965.753348   -37.804501   \n",
       "std       0.975464   1061.324228     87.925580    37.040876     0.090549   \n",
       "min       0.000000      0.000000      0.000000  1196.000000   -38.174360   \n",
       "25%       1.000000    212.000000    100.000000  1945.000000   -37.858560   \n",
       "50%       2.000000    478.000000    132.000000  1970.000000   -37.798700   \n",
       "75%       2.000000    652.000000    180.000000  2000.000000   -37.748945   \n",
       "max      10.000000  42800.000000   3112.000000  2019.000000   -37.407200   \n",
       "\n",
       "        Longtitude  Propertycount  \n",
       "count  8887.000000    8887.000000  \n",
       "mean    144.991393    7475.940137  \n",
       "std       0.118919    4375.024364  \n",
       "min     144.423790     249.000000  \n",
       "25%     144.920000    4382.500000  \n",
       "50%     144.998500    6567.000000  \n",
       "75%     145.064560   10331.000000  \n",
       "max     145.526350   21650.000000  "
      ]
     },
     "execution_count": 5,
     "metadata": {},
     "output_type": "execute_result"
    }
   ],
   "source": [
    "# the description of the data\n",
    "data.describe()"
   ]
  },
  {
   "cell_type": "code",
   "execution_count": 6,
   "metadata": {},
   "outputs": [],
   "source": [
    "# Replacing index of data"
   ]
  },
  {
   "cell_type": "code",
   "execution_count": 7,
   "metadata": {
    "scrolled": false
   },
   "outputs": [
    {
     "data": {
      "text/html": [
       "<div>\n",
       "<style scoped>\n",
       "    .dataframe tbody tr th:only-of-type {\n",
       "        vertical-align: middle;\n",
       "    }\n",
       "\n",
       "    .dataframe tbody tr th {\n",
       "        vertical-align: top;\n",
       "    }\n",
       "\n",
       "    .dataframe thead th {\n",
       "        text-align: right;\n",
       "    }\n",
       "</style>\n",
       "<table border=\"1\" class=\"dataframe\">\n",
       "  <thead>\n",
       "    <tr style=\"text-align: right;\">\n",
       "      <th></th>\n",
       "      <th>Rooms</th>\n",
       "      <th>Price</th>\n",
       "      <th>Distance</th>\n",
       "      <th>Bedroom2</th>\n",
       "      <th>Bathroom</th>\n",
       "      <th>Car</th>\n",
       "      <th>Landsize</th>\n",
       "      <th>BuildingArea</th>\n",
       "      <th>YearBuilt</th>\n",
       "      <th>Lattitude</th>\n",
       "      <th>Longtitude</th>\n",
       "      <th>Propertycount</th>\n",
       "    </tr>\n",
       "  </thead>\n",
       "  <tbody>\n",
       "    <tr>\n",
       "      <th>0</th>\n",
       "      <td>2</td>\n",
       "      <td>1035000.0</td>\n",
       "      <td>2.5</td>\n",
       "      <td>2.0</td>\n",
       "      <td>1.0</td>\n",
       "      <td>0.0</td>\n",
       "      <td>156.0</td>\n",
       "      <td>79.0</td>\n",
       "      <td>1900.0</td>\n",
       "      <td>-37.8079</td>\n",
       "      <td>144.9934</td>\n",
       "      <td>4019.0</td>\n",
       "    </tr>\n",
       "    <tr>\n",
       "      <th>1</th>\n",
       "      <td>3</td>\n",
       "      <td>1465000.0</td>\n",
       "      <td>2.5</td>\n",
       "      <td>3.0</td>\n",
       "      <td>2.0</td>\n",
       "      <td>0.0</td>\n",
       "      <td>134.0</td>\n",
       "      <td>150.0</td>\n",
       "      <td>1900.0</td>\n",
       "      <td>-37.8093</td>\n",
       "      <td>144.9944</td>\n",
       "      <td>4019.0</td>\n",
       "    </tr>\n",
       "    <tr>\n",
       "      <th>2</th>\n",
       "      <td>4</td>\n",
       "      <td>1600000.0</td>\n",
       "      <td>2.5</td>\n",
       "      <td>3.0</td>\n",
       "      <td>1.0</td>\n",
       "      <td>2.0</td>\n",
       "      <td>120.0</td>\n",
       "      <td>142.0</td>\n",
       "      <td>2014.0</td>\n",
       "      <td>-37.8072</td>\n",
       "      <td>144.9941</td>\n",
       "      <td>4019.0</td>\n",
       "    </tr>\n",
       "  </tbody>\n",
       "</table>\n",
       "</div>"
      ],
      "text/plain": [
       "   Rooms      Price  Distance  Bedroom2  Bathroom  Car  Landsize  \\\n",
       "0      2  1035000.0       2.5       2.0       1.0  0.0     156.0   \n",
       "1      3  1465000.0       2.5       3.0       2.0  0.0     134.0   \n",
       "2      4  1600000.0       2.5       3.0       1.0  2.0     120.0   \n",
       "\n",
       "   BuildingArea  YearBuilt  Lattitude  Longtitude  Propertycount  \n",
       "0          79.0     1900.0   -37.8079    144.9934         4019.0  \n",
       "1         150.0     1900.0   -37.8093    144.9944         4019.0  \n",
       "2         142.0     2014.0   -37.8072    144.9941         4019.0  "
      ]
     },
     "execution_count": 7,
     "metadata": {},
     "output_type": "execute_result"
    }
   ],
   "source": [
    "newindex = [i for i in range(len(data.index))]\n",
    "#print(newindex)\n",
    "data.index =  newindex\n",
    "    \n",
    "data.head(3)"
   ]
  },
  {
   "cell_type": "markdown",
   "metadata": {},
   "source": [
    "# Target feature: Price"
   ]
  },
  {
   "cell_type": "code",
   "execution_count": 9,
   "metadata": {
    "scrolled": true
   },
   "outputs": [
    {
     "data": {
      "image/png": "[encoded data removed]",
      "text/plain": [
       "<Figure size 432x288 with 1 Axes>"
      ]
     },
     "metadata": {
      "needs_background": "light"
     },
     "output_type": "display_data"
    }
   ],
   "source": [
    "import matplotlib.pyplot as plt\n",
    "import numpy as np\n",
    "price  = data.Price.apply(lambda x: int(x))\n",
    "#print(price)\n",
    "plt.hist(price,100, range=[min(price),max(price)], color=\"C2\",align='mid')\n",
    "plt.title(\"Histogram of Price\")\n",
    "plt.show()"
   ]
  },
  {
   "cell_type": "markdown",
   "metadata": {},
   "source": [
    "# Rooms feature"
   ]
  },
  {
   "cell_type": "code",
   "execution_count": 10,
   "metadata": {
    "scrolled": true
   },
   "outputs": [
    {
     "data": {
      "image/png": "[encoded data removed]",
      "text/plain": [
       "<Figure size 432x288 with 1 Axes>"
      ]
     },
     "metadata": {
      "needs_background": "light"
     },
     "output_type": "display_data"
    }
   ],
   "source": [
    "plt.hist(data.Rooms,100, color=\"C1\",align='mid')\n",
    "plt.title(\"Histogram of Rooms\")\n",
    "plt.show()"
   ]
  },
  {
   "cell_type": "code",
   "execution_count": 11,
   "metadata": {},
   "outputs": [
    {
     "data": {
      "text/plain": [
       "3     3824\n",
       "4     2240\n",
       "2     1912\n",
       "5      507\n",
       "1      340\n",
       "6       51\n",
       "7        7\n",
       "8        4\n",
       "12       1\n",
       "10       1\n",
       "Name: Rooms, dtype: int64"
      ]
     },
     "execution_count": 11,
     "metadata": {},
     "output_type": "execute_result"
    }
   ],
   "source": [
    "data.Rooms.value_counts()"
   ]
  },
  {
   "cell_type": "markdown",
   "metadata": {},
   "source": [
    "# Distance feature"
   ]
  },
  {
   "cell_type": "code",
   "execution_count": 12,
   "metadata": {},
   "outputs": [
    {
     "data": {
      "image/png": "[encoded data removed]",
      "text/plain": [
       "<Figure size 432x288 with 1 Axes>"
      ]
     },
     "metadata": {
      "needs_background": "light"
     },
     "output_type": "display_data"
    }
   ],
   "source": [
    "dis = data.Distance.apply(lambda x: x)\n",
    "plt.hist(dis,100, color=\"C1\",align='mid')\n",
    "plt.title(\"Histogram of Distance\")\n",
    "plt.show()"
   ]
  },
  {
   "cell_type": "code",
   "execution_count": 13,
   "metadata": {
    "scrolled": true
   },
   "outputs": [
    {
     "data": {
      "image/png": "[encoded data removed]",
      "text/plain": [
       "<Figure size 432x288 with 1 Axes>"
      ]
     },
     "metadata": {
      "needs_background": "light"
     },
     "output_type": "display_data"
    }
   ],
   "source": [
    "from sklearn.preprocessing import PowerTransformer\n",
    "\n",
    "dis_a = PowerTransformer()\n",
    "dis_list = np.array(dis).reshape(-1,1)\n",
    "dis_a.fit(dis_list)\n",
    "\n",
    "#def transform_distribution(samples,offset = 100):\n",
    "    #return transform_model.transform(np.array(samples).reshape(-1,1))+offset\n",
    "#print(bc.lambdas_)\n",
    "dis_tf = dis_a.transform(dis_list)\n",
    "plt.hist(dis_tf,100, color=\"C2\",align='mid')\n",
    "plt.title(\"After transformed\")\n",
    "plt.show()\n",
    "\n",
    "#print(dis_list)\n",
    "#print(dis_tf)"
   ]
  },
  {
   "cell_type": "code",
   "execution_count": 14,
   "metadata": {
    "scrolled": true
   },
   "outputs": [
    {
     "data": {
      "text/html": [
       "<div>\n",
       "<style scoped>\n",
       "    .dataframe tbody tr th:only-of-type {\n",
       "        vertical-align: middle;\n",
       "    }\n",
       "\n",
       "    .dataframe tbody tr th {\n",
       "        vertical-align: top;\n",
       "    }\n",
       "\n",
       "    .dataframe thead th {\n",
       "        text-align: right;\n",
       "    }\n",
       "</style>\n",
       "<table border=\"1\" class=\"dataframe\">\n",
       "  <thead>\n",
       "    <tr style=\"text-align: right;\">\n",
       "      <th></th>\n",
       "      <th>Rooms</th>\n",
       "      <th>Price</th>\n",
       "      <th>Distance</th>\n",
       "      <th>Bedroom2</th>\n",
       "      <th>Bathroom</th>\n",
       "      <th>Car</th>\n",
       "      <th>Landsize</th>\n",
       "      <th>BuildingArea</th>\n",
       "      <th>YearBuilt</th>\n",
       "      <th>Lattitude</th>\n",
       "      <th>Longtitude</th>\n",
       "      <th>Propertycount</th>\n",
       "      <th>Distance_tf</th>\n",
       "    </tr>\n",
       "  </thead>\n",
       "  <tbody>\n",
       "    <tr>\n",
       "      <th>0</th>\n",
       "      <td>2</td>\n",
       "      <td>1035000.0</td>\n",
       "      <td>2.5</td>\n",
       "      <td>2.0</td>\n",
       "      <td>1.0</td>\n",
       "      <td>0.0</td>\n",
       "      <td>156.0</td>\n",
       "      <td>79.0</td>\n",
       "      <td>1900.0</td>\n",
       "      <td>-37.8079</td>\n",
       "      <td>144.9934</td>\n",
       "      <td>4019.0</td>\n",
       "      <td>-1.898121</td>\n",
       "    </tr>\n",
       "    <tr>\n",
       "      <th>1</th>\n",
       "      <td>3</td>\n",
       "      <td>1465000.0</td>\n",
       "      <td>2.5</td>\n",
       "      <td>3.0</td>\n",
       "      <td>2.0</td>\n",
       "      <td>0.0</td>\n",
       "      <td>134.0</td>\n",
       "      <td>150.0</td>\n",
       "      <td>1900.0</td>\n",
       "      <td>-37.8093</td>\n",
       "      <td>144.9944</td>\n",
       "      <td>4019.0</td>\n",
       "      <td>-1.898121</td>\n",
       "    </tr>\n",
       "    <tr>\n",
       "      <th>2</th>\n",
       "      <td>4</td>\n",
       "      <td>1600000.0</td>\n",
       "      <td>2.5</td>\n",
       "      <td>3.0</td>\n",
       "      <td>1.0</td>\n",
       "      <td>2.0</td>\n",
       "      <td>120.0</td>\n",
       "      <td>142.0</td>\n",
       "      <td>2014.0</td>\n",
       "      <td>-37.8072</td>\n",
       "      <td>144.9941</td>\n",
       "      <td>4019.0</td>\n",
       "      <td>-1.898121</td>\n",
       "    </tr>\n",
       "  </tbody>\n",
       "</table>\n",
       "</div>"
      ],
      "text/plain": [
       "   Rooms      Price  Distance  Bedroom2  Bathroom  Car  Landsize  \\\n",
       "0      2  1035000.0       2.5       2.0       1.0  0.0     156.0   \n",
       "1      3  1465000.0       2.5       3.0       2.0  0.0     134.0   \n",
       "2      4  1600000.0       2.5       3.0       1.0  2.0     120.0   \n",
       "\n",
       "   BuildingArea  YearBuilt  Lattitude  Longtitude  Propertycount  Distance_tf  \n",
       "0          79.0     1900.0   -37.8079    144.9934         4019.0    -1.898121  \n",
       "1         150.0     1900.0   -37.8093    144.9944         4019.0    -1.898121  \n",
       "2         142.0     2014.0   -37.8072    144.9941         4019.0    -1.898121  "
      ]
     },
     "execution_count": 14,
     "metadata": {},
     "output_type": "execute_result"
    }
   ],
   "source": [
    "data[\"Distance_tf\"] = dis_tf\n",
    "data.head(3)"
   ]
  },
  {
   "cell_type": "markdown",
   "metadata": {},
   "source": [
    "# Bedroom2 feature"
   ]
  },
  {
   "cell_type": "code",
   "execution_count": 15,
   "metadata": {
    "scrolled": true
   },
   "outputs": [
    {
     "data": {
      "image/png": "[encoded data removed]",
      "text/plain": [
       "<Figure size 432x288 with 1 Axes>"
      ]
     },
     "metadata": {
      "needs_background": "light"
     },
     "output_type": "display_data"
    }
   ],
   "source": [
    "plt.hist(data.Bedroom2,100, color=\"C1\",align='mid')\n",
    "plt.title(\"Histogram of Distance\")\n",
    "plt.show()"
   ]
  },
  {
   "cell_type": "code",
   "execution_count": 16,
   "metadata": {
    "scrolled": true
   },
   "outputs": [
    {
     "data": {
      "text/plain": [
       "3.0     3837\n",
       "4.0     2183\n",
       "2.0     1965\n",
       "5.0      487\n",
       "1.0      348\n",
       "6.0       50\n",
       "7.0        5\n",
       "0.0        5\n",
       "9.0        3\n",
       "8.0        2\n",
       "12.0       1\n",
       "10.0       1\n",
       "Name: Bedroom2, dtype: int64"
      ]
     },
     "execution_count": 16,
     "metadata": {},
     "output_type": "execute_result"
    }
   ],
   "source": [
    "data.Bedroom2.value_counts()"
   ]
  },
  {
   "cell_type": "markdown",
   "metadata": {},
   "source": [
    "# Bathroom feature"
   ]
  },
  {
   "cell_type": "code",
   "execution_count": 17,
   "metadata": {
    "scrolled": true
   },
   "outputs": [
    {
     "data": {
      "image/png": "[encoded data removed]",
      "text/plain": [
       "<Figure size 432x288 with 1 Axes>"
      ]
     },
     "metadata": {
      "needs_background": "light"
     },
     "output_type": "display_data"
    }
   ],
   "source": [
    "plt.hist(data.Bathroom,100, color=\"C1\",align='mid')\n",
    "plt.title(\"Histogram of Distance\")\n",
    "plt.show()"
   ]
  },
  {
   "cell_type": "code",
   "execution_count": 18,
   "metadata": {
    "scrolled": true
   },
   "outputs": [
    {
     "data": {
      "image/png": "[encoded data removed]",
      "text/plain": [
       "<Figure size 432x288 with 1 Axes>"
      ]
     },
     "metadata": {
      "needs_background": "light"
     },
     "output_type": "display_data"
    }
   ],
   "source": [
    "from sklearn.preprocessing import PowerTransformer\n",
    "\n",
    "bath = data.Bathroom.apply(lambda x: x)\n",
    "\n",
    "bath_a = PowerTransformer()\n",
    "bath_list = np.array(bath).reshape(-1,1)\n",
    "bath_a.fit(bath_list)\n",
    "\n",
    "#def transform_distribution(samples,offset = 100):\n",
    "    #return transform_model.transform(np.array(samples).reshape(-1,1))+offset\n",
    "#print(bc.lambdas_)\n",
    "bath_tf = bath_a.transform(bath_list)\n",
    "plt.hist(bath_tf,100, color=\"C2\",align='mid')\n",
    "plt.title(\"After transformed\")\n",
    "plt.show()\n",
    "\n",
    "#print(bath_list)\n",
    "#print(bath_tf)"
   ]
  },
  {
   "cell_type": "code",
   "execution_count": 19,
   "metadata": {},
   "outputs": [
    {
     "data": {
      "text/html": [
       "<div>\n",
       "<style scoped>\n",
       "    .dataframe tbody tr th:only-of-type {\n",
       "        vertical-align: middle;\n",
       "    }\n",
       "\n",
       "    .dataframe tbody tr th {\n",
       "        vertical-align: top;\n",
       "    }\n",
       "\n",
       "    .dataframe thead th {\n",
       "        text-align: right;\n",
       "    }\n",
       "</style>\n",
       "<table border=\"1\" class=\"dataframe\">\n",
       "  <thead>\n",
       "    <tr style=\"text-align: right;\">\n",
       "      <th></th>\n",
       "      <th>Rooms</th>\n",
       "      <th>Price</th>\n",
       "      <th>Distance</th>\n",
       "      <th>Bedroom2</th>\n",
       "      <th>Bathroom</th>\n",
       "      <th>Car</th>\n",
       "      <th>Landsize</th>\n",
       "      <th>BuildingArea</th>\n",
       "      <th>YearBuilt</th>\n",
       "      <th>Lattitude</th>\n",
       "      <th>Longtitude</th>\n",
       "      <th>Propertycount</th>\n",
       "      <th>Distance_tf</th>\n",
       "      <th>Bathroom_tf</th>\n",
       "    </tr>\n",
       "  </thead>\n",
       "  <tbody>\n",
       "    <tr>\n",
       "      <th>0</th>\n",
       "      <td>2</td>\n",
       "      <td>1035000.0</td>\n",
       "      <td>2.5</td>\n",
       "      <td>2.0</td>\n",
       "      <td>1.0</td>\n",
       "      <td>0.0</td>\n",
       "      <td>156.0</td>\n",
       "      <td>79.0</td>\n",
       "      <td>1900.0</td>\n",
       "      <td>-37.8079</td>\n",
       "      <td>144.9934</td>\n",
       "      <td>4019.0</td>\n",
       "      <td>-1.898121</td>\n",
       "      <td>-1.017960</td>\n",
       "    </tr>\n",
       "    <tr>\n",
       "      <th>1</th>\n",
       "      <td>3</td>\n",
       "      <td>1465000.0</td>\n",
       "      <td>2.5</td>\n",
       "      <td>3.0</td>\n",
       "      <td>2.0</td>\n",
       "      <td>0.0</td>\n",
       "      <td>134.0</td>\n",
       "      <td>150.0</td>\n",
       "      <td>1900.0</td>\n",
       "      <td>-37.8093</td>\n",
       "      <td>144.9944</td>\n",
       "      <td>4019.0</td>\n",
       "      <td>-1.898121</td>\n",
       "      <td>0.740975</td>\n",
       "    </tr>\n",
       "    <tr>\n",
       "      <th>2</th>\n",
       "      <td>4</td>\n",
       "      <td>1600000.0</td>\n",
       "      <td>2.5</td>\n",
       "      <td>3.0</td>\n",
       "      <td>1.0</td>\n",
       "      <td>2.0</td>\n",
       "      <td>120.0</td>\n",
       "      <td>142.0</td>\n",
       "      <td>2014.0</td>\n",
       "      <td>-37.8072</td>\n",
       "      <td>144.9941</td>\n",
       "      <td>4019.0</td>\n",
       "      <td>-1.898121</td>\n",
       "      <td>-1.017960</td>\n",
       "    </tr>\n",
       "  </tbody>\n",
       "</table>\n",
       "</div>"
      ],
      "text/plain": [
       "   Rooms      Price  Distance  Bedroom2  Bathroom  Car  Landsize  \\\n",
       "0      2  1035000.0       2.5       2.0       1.0  0.0     156.0   \n",
       "1      3  1465000.0       2.5       3.0       2.0  0.0     134.0   \n",
       "2      4  1600000.0       2.5       3.0       1.0  2.0     120.0   \n",
       "\n",
       "   BuildingArea  YearBuilt  Lattitude  Longtitude  Propertycount  Distance_tf  \\\n",
       "0          79.0     1900.0   -37.8079    144.9934         4019.0    -1.898121   \n",
       "1         150.0     1900.0   -37.8093    144.9944         4019.0    -1.898121   \n",
       "2         142.0     2014.0   -37.8072    144.9941         4019.0    -1.898121   \n",
       "\n",
       "   Bathroom_tf  \n",
       "0    -1.017960  \n",
       "1     0.740975  \n",
       "2    -1.017960  "
      ]
     },
     "execution_count": 19,
     "metadata": {},
     "output_type": "execute_result"
    }
   ],
   "source": [
    "data[\"Bathroom_tf\"] = bath_tf\n",
    "data.head(3)"
   ]
  },
  {
   "cell_type": "markdown",
   "metadata": {},
   "source": [
    "# Car feature"
   ]
  },
  {
   "cell_type": "code",
   "execution_count": 20,
   "metadata": {},
   "outputs": [
    {
     "data": {
      "image/png": "[encoded data removed]",
      "text/plain": [
       "<Figure size 432x288 with 1 Axes>"
      ]
     },
     "metadata": {
      "needs_background": "light"
     },
     "output_type": "display_data"
    }
   ],
   "source": [
    "plt.hist(data.Car,100, color=\"C1\",align='mid')\n",
    "plt.title(\"Histogram of Distance\")\n",
    "plt.show()"
   ]
  },
  {
   "cell_type": "markdown",
   "metadata": {},
   "source": [
    "# Landsize feature"
   ]
  },
  {
   "cell_type": "code",
   "execution_count": 21,
   "metadata": {
    "scrolled": false
   },
   "outputs": [
    {
     "data": {
      "image/png": "[encoded data removed]",
      "text/plain": [
       "<Figure size 432x288 with 1 Axes>"
      ]
     },
     "metadata": {
      "needs_background": "light"
     },
     "output_type": "display_data"
    }
   ],
   "source": [
    "plt.hist(data.Landsize,100, color=\"C1\",align='mid')\n",
    "plt.title(\"Histogram of Distance\")\n",
    "plt.show()"
   ]
  },
  {
   "cell_type": "code",
   "execution_count": 22,
   "metadata": {},
   "outputs": [
    {
     "data": {
      "image/png": "[encoded data removed]",
      "text/plain": [
       "<Figure size 432x288 with 1 Axes>"
      ]
     },
     "metadata": {
      "needs_background": "light"
     },
     "output_type": "display_data"
    }
   ],
   "source": [
    "from sklearn.preprocessing import PowerTransformer\n",
    "\n",
    "land = data.Landsize.apply(lambda x: x)\n",
    "\n",
    "land_a = PowerTransformer()\n",
    "land_list = np.array(land).reshape(-1,1)\n",
    "land_a.fit(land_list)\n",
    "\n",
    "#def transform_distribution(samples,offset = 100):\n",
    "    #return transform_model.transform(np.array(samples).reshape(-1,1))+offset\n",
    "#print(bc.lambdas_)\n",
    "land_tf = land_a.transform(land_list)\n",
    "plt.hist(land_tf,100, color=\"C2\",align='mid')\n",
    "plt.title(\"After transformed\")\n",
    "plt.show()\n",
    "\n",
    "#print(land_list)\n",
    "#print(land_tf)"
   ]
  },
  {
   "cell_type": "code",
   "execution_count": 23,
   "metadata": {},
   "outputs": [
    {
     "data": {
      "text/html": [
       "<div>\n",
       "<style scoped>\n",
       "    .dataframe tbody tr th:only-of-type {\n",
       "        vertical-align: middle;\n",
       "    }\n",
       "\n",
       "    .dataframe tbody tr th {\n",
       "        vertical-align: top;\n",
       "    }\n",
       "\n",
       "    .dataframe thead th {\n",
       "        text-align: right;\n",
       "    }\n",
       "</style>\n",
       "<table border=\"1\" class=\"dataframe\">\n",
       "  <thead>\n",
       "    <tr style=\"text-align: right;\">\n",
       "      <th></th>\n",
       "      <th>Rooms</th>\n",
       "      <th>Price</th>\n",
       "      <th>Distance</th>\n",
       "      <th>Bedroom2</th>\n",
       "      <th>Bathroom</th>\n",
       "      <th>Car</th>\n",
       "      <th>Landsize</th>\n",
       "      <th>BuildingArea</th>\n",
       "      <th>YearBuilt</th>\n",
       "      <th>Lattitude</th>\n",
       "      <th>Longtitude</th>\n",
       "      <th>Propertycount</th>\n",
       "      <th>Distance_tf</th>\n",
       "      <th>Bathroom_tf</th>\n",
       "      <th>Landsize_tf</th>\n",
       "    </tr>\n",
       "  </thead>\n",
       "  <tbody>\n",
       "    <tr>\n",
       "      <th>0</th>\n",
       "      <td>2</td>\n",
       "      <td>1035000.0</td>\n",
       "      <td>2.5</td>\n",
       "      <td>2.0</td>\n",
       "      <td>1.0</td>\n",
       "      <td>0.0</td>\n",
       "      <td>156.0</td>\n",
       "      <td>79.0</td>\n",
       "      <td>1900.0</td>\n",
       "      <td>-37.8079</td>\n",
       "      <td>144.9934</td>\n",
       "      <td>4019.0</td>\n",
       "      <td>-1.898121</td>\n",
       "      <td>-1.017960</td>\n",
       "      <td>-0.610273</td>\n",
       "    </tr>\n",
       "    <tr>\n",
       "      <th>1</th>\n",
       "      <td>3</td>\n",
       "      <td>1465000.0</td>\n",
       "      <td>2.5</td>\n",
       "      <td>3.0</td>\n",
       "      <td>2.0</td>\n",
       "      <td>0.0</td>\n",
       "      <td>134.0</td>\n",
       "      <td>150.0</td>\n",
       "      <td>1900.0</td>\n",
       "      <td>-37.8093</td>\n",
       "      <td>144.9944</td>\n",
       "      <td>4019.0</td>\n",
       "      <td>-1.898121</td>\n",
       "      <td>0.740975</td>\n",
       "      <td>-0.702716</td>\n",
       "    </tr>\n",
       "    <tr>\n",
       "      <th>2</th>\n",
       "      <td>4</td>\n",
       "      <td>1600000.0</td>\n",
       "      <td>2.5</td>\n",
       "      <td>3.0</td>\n",
       "      <td>1.0</td>\n",
       "      <td>2.0</td>\n",
       "      <td>120.0</td>\n",
       "      <td>142.0</td>\n",
       "      <td>2014.0</td>\n",
       "      <td>-37.8072</td>\n",
       "      <td>144.9941</td>\n",
       "      <td>4019.0</td>\n",
       "      <td>-1.898121</td>\n",
       "      <td>-1.017960</td>\n",
       "      <td>-0.766689</td>\n",
       "    </tr>\n",
       "  </tbody>\n",
       "</table>\n",
       "</div>"
      ],
      "text/plain": [
       "   Rooms      Price  Distance  Bedroom2  Bathroom  Car  Landsize  \\\n",
       "0      2  1035000.0       2.5       2.0       1.0  0.0     156.0   \n",
       "1      3  1465000.0       2.5       3.0       2.0  0.0     134.0   \n",
       "2      4  1600000.0       2.5       3.0       1.0  2.0     120.0   \n",
       "\n",
       "   BuildingArea  YearBuilt  Lattitude  Longtitude  Propertycount  Distance_tf  \\\n",
       "0          79.0     1900.0   -37.8079    144.9934         4019.0    -1.898121   \n",
       "1         150.0     1900.0   -37.8093    144.9944         4019.0    -1.898121   \n",
       "2         142.0     2014.0   -37.8072    144.9941         4019.0    -1.898121   \n",
       "\n",
       "   Bathroom_tf  Landsize_tf  \n",
       "0    -1.017960    -0.610273  \n",
       "1     0.740975    -0.702716  \n",
       "2    -1.017960    -0.766689  "
      ]
     },
     "execution_count": 23,
     "metadata": {},
     "output_type": "execute_result"
    }
   ],
   "source": [
    "data[\"Landsize_tf\"] = land_tf\n",
    "data.head(3)"
   ]
  },
  {
   "cell_type": "markdown",
   "metadata": {},
   "source": [
    "# BuildingArea feature"
   ]
  },
  {
   "cell_type": "code",
   "execution_count": 24,
   "metadata": {},
   "outputs": [
    {
     "data": {
      "image/png": "[encoded data removed]",
      "text/plain": [
       "<Figure size 432x288 with 1 Axes>"
      ]
     },
     "metadata": {
      "needs_background": "light"
     },
     "output_type": "display_data"
    }
   ],
   "source": [
    "plt.hist(data.BuildingArea,100, color=\"C1\",align='mid')\n",
    "plt.title(\"Histogram of Distance\")\n",
    "plt.show()"
   ]
  },
  {
   "cell_type": "code",
   "execution_count": 25,
   "metadata": {
    "scrolled": true
   },
   "outputs": [
    {
     "data": {
      "image/png": "[encoded data removed]",
      "text/plain": [
       "<Figure size 432x288 with 1 Axes>"
      ]
     },
     "metadata": {
      "needs_background": "light"
     },
     "output_type": "display_data"
    }
   ],
   "source": [
    "from sklearn.preprocessing import PowerTransformer\n",
    "\n",
    "area = data.BuildingArea.apply(lambda x: x)\n",
    "\n",
    "area_a = PowerTransformer()\n",
    "area_list = np.array(area).reshape(-1,1)\n",
    "area_a.fit(area_list)\n",
    "\n",
    "#def transform_distribution(samples,offset = 100):\n",
    "    #return transform_model.transform(np.array(samples).reshape(-1,1))+offset\n",
    "#print(bc.lambdas_)\n",
    "area_tf = area_a.transform(area_list)\n",
    "plt.hist(area_tf,100, color=\"C2\",align='mid')\n",
    "plt.title(\"After transformed\")\n",
    "plt.show()\n",
    "\n",
    "#print(area_list)\n",
    "#print(area_tf)"
   ]
  },
  {
   "cell_type": "code",
   "execution_count": 26,
   "metadata": {
    "scrolled": true
   },
   "outputs": [
    {
     "data": {
      "text/html": [
       "<div>\n",
       "<style scoped>\n",
       "    .dataframe tbody tr th:only-of-type {\n",
       "        vertical-align: middle;\n",
       "    }\n",
       "\n",
       "    .dataframe tbody tr th {\n",
       "        vertical-align: top;\n",
       "    }\n",
       "\n",
       "    .dataframe thead th {\n",
       "        text-align: right;\n",
       "    }\n",
       "</style>\n",
       "<table border=\"1\" class=\"dataframe\">\n",
       "  <thead>\n",
       "    <tr style=\"text-align: right;\">\n",
       "      <th></th>\n",
       "      <th>Rooms</th>\n",
       "      <th>Price</th>\n",
       "      <th>Distance</th>\n",
       "      <th>Bedroom2</th>\n",
       "      <th>Bathroom</th>\n",
       "      <th>Car</th>\n",
       "      <th>Landsize</th>\n",
       "      <th>BuildingArea</th>\n",
       "      <th>YearBuilt</th>\n",
       "      <th>Lattitude</th>\n",
       "      <th>Longtitude</th>\n",
       "      <th>Propertycount</th>\n",
       "      <th>Distance_tf</th>\n",
       "      <th>Bathroom_tf</th>\n",
       "      <th>Landsize_tf</th>\n",
       "      <th>BuildingArea_tf</th>\n",
       "    </tr>\n",
       "  </thead>\n",
       "  <tbody>\n",
       "    <tr>\n",
       "      <th>0</th>\n",
       "      <td>2</td>\n",
       "      <td>1035000.0</td>\n",
       "      <td>2.5</td>\n",
       "      <td>2.0</td>\n",
       "      <td>1.0</td>\n",
       "      <td>0.0</td>\n",
       "      <td>156.0</td>\n",
       "      <td>79.0</td>\n",
       "      <td>1900.0</td>\n",
       "      <td>-37.8079</td>\n",
       "      <td>144.9934</td>\n",
       "      <td>4019.0</td>\n",
       "      <td>-1.898121</td>\n",
       "      <td>-1.017960</td>\n",
       "      <td>-0.610273</td>\n",
       "      <td>-0.925948</td>\n",
       "    </tr>\n",
       "    <tr>\n",
       "      <th>1</th>\n",
       "      <td>3</td>\n",
       "      <td>1465000.0</td>\n",
       "      <td>2.5</td>\n",
       "      <td>3.0</td>\n",
       "      <td>2.0</td>\n",
       "      <td>0.0</td>\n",
       "      <td>134.0</td>\n",
       "      <td>150.0</td>\n",
       "      <td>1900.0</td>\n",
       "      <td>-37.8093</td>\n",
       "      <td>144.9944</td>\n",
       "      <td>4019.0</td>\n",
       "      <td>-1.898121</td>\n",
       "      <td>0.740975</td>\n",
       "      <td>-0.702716</td>\n",
       "      <td>0.166533</td>\n",
       "    </tr>\n",
       "    <tr>\n",
       "      <th>2</th>\n",
       "      <td>4</td>\n",
       "      <td>1600000.0</td>\n",
       "      <td>2.5</td>\n",
       "      <td>3.0</td>\n",
       "      <td>1.0</td>\n",
       "      <td>2.0</td>\n",
       "      <td>120.0</td>\n",
       "      <td>142.0</td>\n",
       "      <td>2014.0</td>\n",
       "      <td>-37.8072</td>\n",
       "      <td>144.9941</td>\n",
       "      <td>4019.0</td>\n",
       "      <td>-1.898121</td>\n",
       "      <td>-1.017960</td>\n",
       "      <td>-0.766689</td>\n",
       "      <td>0.061793</td>\n",
       "    </tr>\n",
       "  </tbody>\n",
       "</table>\n",
       "</div>"
      ],
      "text/plain": [
       "   Rooms      Price  Distance  Bedroom2  Bathroom  Car  Landsize  \\\n",
       "0      2  1035000.0       2.5       2.0       1.0  0.0     156.0   \n",
       "1      3  1465000.0       2.5       3.0       2.0  0.0     134.0   \n",
       "2      4  1600000.0       2.5       3.0       1.0  2.0     120.0   \n",
       "\n",
       "   BuildingArea  YearBuilt  Lattitude  Longtitude  Propertycount  Distance_tf  \\\n",
       "0          79.0     1900.0   -37.8079    144.9934         4019.0    -1.898121   \n",
       "1         150.0     1900.0   -37.8093    144.9944         4019.0    -1.898121   \n",
       "2         142.0     2014.0   -37.8072    144.9941         4019.0    -1.898121   \n",
       "\n",
       "   Bathroom_tf  Landsize_tf  BuildingArea_tf  \n",
       "0    -1.017960    -0.610273        -0.925948  \n",
       "1     0.740975    -0.702716         0.166533  \n",
       "2    -1.017960    -0.766689         0.061793  "
      ]
     },
     "execution_count": 26,
     "metadata": {},
     "output_type": "execute_result"
    }
   ],
   "source": [
    "data[\"BuildingArea_tf\"] = area_tf\n",
    "data.head(3)"
   ]
  },
  {
   "cell_type": "markdown",
   "metadata": {},
   "source": [
    "# YearBuilt feature"
   ]
  },
  {
   "cell_type": "code",
   "execution_count": 27,
   "metadata": {},
   "outputs": [
    {
     "data": {
      "image/png": "[encoded data removed]",
      "text/plain": [
       "<Figure size 432x288 with 1 Axes>"
      ]
     },
     "metadata": {
      "needs_background": "light"
     },
     "output_type": "display_data"
    }
   ],
   "source": [
    "plt.hist(data.YearBuilt,100, color=\"C1\",align='mid')\n",
    "plt.title(\"Histogram of Distance\")\n",
    "plt.show()"
   ]
  },
  {
   "cell_type": "code",
   "execution_count": 28,
   "metadata": {
    "scrolled": true
   },
   "outputs": [
    {
     "data": {
      "image/png": "[encoded data removed]",
      "text/plain": [
       "<Figure size 432x288 with 1 Axes>"
      ]
     },
     "metadata": {
      "needs_background": "light"
     },
     "output_type": "display_data"
    }
   ],
   "source": [
    "from sklearn.preprocessing import PowerTransformer\n",
    "\n",
    "year = data.YearBuilt.apply(lambda x: x)\n",
    "\n",
    "year_a = PowerTransformer()\n",
    "year_list = np.array(year).reshape(-1,1)\n",
    "year_a.fit(year_list)\n",
    "\n",
    "#def transform_distribution(samples,offset = 100):\n",
    "    #return transform_model.transform(np.array(samples).reshape(-1,1))+offset\n",
    "#print(bc.lambdas_)\n",
    "year_tf = year_a.transform(year_list)\n",
    "plt.hist(year_tf,100, color=\"C2\",align='mid')\n",
    "plt.title(\"After transformed\")\n",
    "plt.show()\n",
    "\n",
    "#print(year_list)\n",
    "#print(year_tf)"
   ]
  },
  {
   "cell_type": "code",
   "execution_count": 29,
   "metadata": {},
   "outputs": [
    {
     "data": {
      "text/html": [
       "<div>\n",
       "<style scoped>\n",
       "    .dataframe tbody tr th:only-of-type {\n",
       "        vertical-align: middle;\n",
       "    }\n",
       "\n",
       "    .dataframe tbody tr th {\n",
       "        vertical-align: top;\n",
       "    }\n",
       "\n",
       "    .dataframe thead th {\n",
       "        text-align: right;\n",
       "    }\n",
       "</style>\n",
       "<table border=\"1\" class=\"dataframe\">\n",
       "  <thead>\n",
       "    <tr style=\"text-align: right;\">\n",
       "      <th></th>\n",
       "      <th>Rooms</th>\n",
       "      <th>Price</th>\n",
       "      <th>Distance</th>\n",
       "      <th>Bedroom2</th>\n",
       "      <th>Bathroom</th>\n",
       "      <th>Car</th>\n",
       "      <th>Landsize</th>\n",
       "      <th>BuildingArea</th>\n",
       "      <th>YearBuilt</th>\n",
       "      <th>Lattitude</th>\n",
       "      <th>Longtitude</th>\n",
       "      <th>Propertycount</th>\n",
       "      <th>Distance_tf</th>\n",
       "      <th>Bathroom_tf</th>\n",
       "      <th>Landsize_tf</th>\n",
       "      <th>BuildingArea_tf</th>\n",
       "      <th>YearBuilt_tf</th>\n",
       "    </tr>\n",
       "  </thead>\n",
       "  <tbody>\n",
       "    <tr>\n",
       "      <th>0</th>\n",
       "      <td>2</td>\n",
       "      <td>1035000.0</td>\n",
       "      <td>2.5</td>\n",
       "      <td>2.0</td>\n",
       "      <td>1.0</td>\n",
       "      <td>0.0</td>\n",
       "      <td>156.0</td>\n",
       "      <td>79.0</td>\n",
       "      <td>1900.0</td>\n",
       "      <td>-37.8079</td>\n",
       "      <td>144.9934</td>\n",
       "      <td>4019.0</td>\n",
       "      <td>-1.898121</td>\n",
       "      <td>-1.017960</td>\n",
       "      <td>-0.610273</td>\n",
       "      <td>-0.925948</td>\n",
       "      <td>-1.621641</td>\n",
       "    </tr>\n",
       "    <tr>\n",
       "      <th>1</th>\n",
       "      <td>3</td>\n",
       "      <td>1465000.0</td>\n",
       "      <td>2.5</td>\n",
       "      <td>3.0</td>\n",
       "      <td>2.0</td>\n",
       "      <td>0.0</td>\n",
       "      <td>134.0</td>\n",
       "      <td>150.0</td>\n",
       "      <td>1900.0</td>\n",
       "      <td>-37.8093</td>\n",
       "      <td>144.9944</td>\n",
       "      <td>4019.0</td>\n",
       "      <td>-1.898121</td>\n",
       "      <td>0.740975</td>\n",
       "      <td>-0.702716</td>\n",
       "      <td>0.166533</td>\n",
       "      <td>-1.621641</td>\n",
       "    </tr>\n",
       "    <tr>\n",
       "      <th>2</th>\n",
       "      <td>4</td>\n",
       "      <td>1600000.0</td>\n",
       "      <td>2.5</td>\n",
       "      <td>3.0</td>\n",
       "      <td>1.0</td>\n",
       "      <td>2.0</td>\n",
       "      <td>120.0</td>\n",
       "      <td>142.0</td>\n",
       "      <td>2014.0</td>\n",
       "      <td>-37.8072</td>\n",
       "      <td>144.9941</td>\n",
       "      <td>4019.0</td>\n",
       "      <td>-1.898121</td>\n",
       "      <td>-1.017960</td>\n",
       "      <td>-0.766689</td>\n",
       "      <td>0.061793</td>\n",
       "      <td>1.528799</td>\n",
       "    </tr>\n",
       "  </tbody>\n",
       "</table>\n",
       "</div>"
      ],
      "text/plain": [
       "   Rooms      Price  Distance  Bedroom2  Bathroom  Car  Landsize  \\\n",
       "0      2  1035000.0       2.5       2.0       1.0  0.0     156.0   \n",
       "1      3  1465000.0       2.5       3.0       2.0  0.0     134.0   \n",
       "2      4  1600000.0       2.5       3.0       1.0  2.0     120.0   \n",
       "\n",
       "   BuildingArea  YearBuilt  Lattitude  Longtitude  Propertycount  Distance_tf  \\\n",
       "0          79.0     1900.0   -37.8079    144.9934         4019.0    -1.898121   \n",
       "1         150.0     1900.0   -37.8093    144.9944         4019.0    -1.898121   \n",
       "2         142.0     2014.0   -37.8072    144.9941         4019.0    -1.898121   \n",
       "\n",
       "   Bathroom_tf  Landsize_tf  BuildingArea_tf  YearBuilt_tf  \n",
       "0    -1.017960    -0.610273        -0.925948     -1.621641  \n",
       "1     0.740975    -0.702716         0.166533     -1.621641  \n",
       "2    -1.017960    -0.766689         0.061793      1.528799  "
      ]
     },
     "execution_count": 29,
     "metadata": {},
     "output_type": "execute_result"
    }
   ],
   "source": [
    "data[\"YearBuilt_tf\"] = year_tf\n",
    "data.head(3)"
   ]
  },
  {
   "cell_type": "markdown",
   "metadata": {},
   "source": [
    "# Propertycount feature"
   ]
  },
  {
   "cell_type": "code",
   "execution_count": 30,
   "metadata": {
    "scrolled": true
   },
   "outputs": [
    {
     "data": {
      "image/png": "[encoded data removed]",
      "text/plain": [
       "<Figure size 432x288 with 1 Axes>"
      ]
     },
     "metadata": {
      "needs_background": "light"
     },
     "output_type": "display_data"
    }
   ],
   "source": [
    "plt.hist(data.Propertycount,100, color=\"C1\",align='mid')\n",
    "plt.title(\"Histogram of Distance\")\n",
    "plt.show()"
   ]
  },
  {
   "cell_type": "code",
   "execution_count": 31,
   "metadata": {},
   "outputs": [
    {
     "data": {
      "image/png": "[encoded data removed]",
      "text/plain": [
       "<Figure size 432x288 with 1 Axes>"
      ]
     },
     "metadata": {
      "needs_background": "light"
     },
     "output_type": "display_data"
    }
   ],
   "source": [
    "from sklearn.preprocessing import PowerTransformer\n",
    "\n",
    "pro = data.Propertycount.apply(lambda x: x)\n",
    "\n",
    "pro_a = PowerTransformer()\n",
    "pro_list = np.array(pro).reshape(-1,1)\n",
    "pro_a.fit(pro_list)\n",
    "\n",
    "#def transform_distribution(samples,offset = 100):\n",
    "    #return transform_model.transform(np.array(samples).reshape(-1,1))+offset\n",
    "#print(bc.lambdas_)\n",
    "pro_tf = pro_a.transform(pro_list)\n",
    "plt.hist(pro_tf,100, color=\"C2\",align='mid')\n",
    "plt.title(\"After transformed\")\n",
    "plt.show()\n",
    "\n",
    "#print(pro_list)\n",
    "#print(pro_tf)"
   ]
  },
  {
   "cell_type": "code",
   "execution_count": 32,
   "metadata": {},
   "outputs": [
    {
     "data": {
      "text/html": [
       "<div>\n",
       "<style scoped>\n",
       "    .dataframe tbody tr th:only-of-type {\n",
       "        vertical-align: middle;\n",
       "    }\n",
       "\n",
       "    .dataframe tbody tr th {\n",
       "        vertical-align: top;\n",
       "    }\n",
       "\n",
       "    .dataframe thead th {\n",
       "        text-align: right;\n",
       "    }\n",
       "</style>\n",
       "<table border=\"1\" class=\"dataframe\">\n",
       "  <thead>\n",
       "    <tr style=\"text-align: right;\">\n",
       "      <th></th>\n",
       "      <th>Rooms</th>\n",
       "      <th>Price</th>\n",
       "      <th>Distance</th>\n",
       "      <th>Bedroom2</th>\n",
       "      <th>Bathroom</th>\n",
       "      <th>Car</th>\n",
       "      <th>Landsize</th>\n",
       "      <th>BuildingArea</th>\n",
       "      <th>YearBuilt</th>\n",
       "      <th>Lattitude</th>\n",
       "      <th>Longtitude</th>\n",
       "      <th>Propertycount</th>\n",
       "      <th>Distance_tf</th>\n",
       "      <th>Bathroom_tf</th>\n",
       "      <th>Landsize_tf</th>\n",
       "      <th>BuildingArea_tf</th>\n",
       "      <th>YearBuilt_tf</th>\n",
       "      <th>Propertycount_tf</th>\n",
       "    </tr>\n",
       "  </thead>\n",
       "  <tbody>\n",
       "    <tr>\n",
       "      <th>0</th>\n",
       "      <td>2</td>\n",
       "      <td>1035000.0</td>\n",
       "      <td>2.5</td>\n",
       "      <td>2.0</td>\n",
       "      <td>1.0</td>\n",
       "      <td>0.0</td>\n",
       "      <td>156.0</td>\n",
       "      <td>79.0</td>\n",
       "      <td>1900.0</td>\n",
       "      <td>-37.8079</td>\n",
       "      <td>144.9934</td>\n",
       "      <td>4019.0</td>\n",
       "      <td>-1.898121</td>\n",
       "      <td>-1.017960</td>\n",
       "      <td>-0.610273</td>\n",
       "      <td>-0.925948</td>\n",
       "      <td>-1.621641</td>\n",
       "      <td>-0.748531</td>\n",
       "    </tr>\n",
       "    <tr>\n",
       "      <th>1</th>\n",
       "      <td>3</td>\n",
       "      <td>1465000.0</td>\n",
       "      <td>2.5</td>\n",
       "      <td>3.0</td>\n",
       "      <td>2.0</td>\n",
       "      <td>0.0</td>\n",
       "      <td>134.0</td>\n",
       "      <td>150.0</td>\n",
       "      <td>1900.0</td>\n",
       "      <td>-37.8093</td>\n",
       "      <td>144.9944</td>\n",
       "      <td>4019.0</td>\n",
       "      <td>-1.898121</td>\n",
       "      <td>0.740975</td>\n",
       "      <td>-0.702716</td>\n",
       "      <td>0.166533</td>\n",
       "      <td>-1.621641</td>\n",
       "      <td>-0.748531</td>\n",
       "    </tr>\n",
       "    <tr>\n",
       "      <th>2</th>\n",
       "      <td>4</td>\n",
       "      <td>1600000.0</td>\n",
       "      <td>2.5</td>\n",
       "      <td>3.0</td>\n",
       "      <td>1.0</td>\n",
       "      <td>2.0</td>\n",
       "      <td>120.0</td>\n",
       "      <td>142.0</td>\n",
       "      <td>2014.0</td>\n",
       "      <td>-37.8072</td>\n",
       "      <td>144.9941</td>\n",
       "      <td>4019.0</td>\n",
       "      <td>-1.898121</td>\n",
       "      <td>-1.017960</td>\n",
       "      <td>-0.766689</td>\n",
       "      <td>0.061793</td>\n",
       "      <td>1.528799</td>\n",
       "      <td>-0.748531</td>\n",
       "    </tr>\n",
       "  </tbody>\n",
       "</table>\n",
       "</div>"
      ],
      "text/plain": [
       "   Rooms      Price  Distance  Bedroom2  Bathroom  Car  Landsize  \\\n",
       "0      2  1035000.0       2.5       2.0       1.0  0.0     156.0   \n",
       "1      3  1465000.0       2.5       3.0       2.0  0.0     134.0   \n",
       "2      4  1600000.0       2.5       3.0       1.0  2.0     120.0   \n",
       "\n",
       "   BuildingArea  YearBuilt  Lattitude  Longtitude  Propertycount  Distance_tf  \\\n",
       "0          79.0     1900.0   -37.8079    144.9934         4019.0    -1.898121   \n",
       "1         150.0     1900.0   -37.8093    144.9944         4019.0    -1.898121   \n",
       "2         142.0     2014.0   -37.8072    144.9941         4019.0    -1.898121   \n",
       "\n",
       "   Bathroom_tf  Landsize_tf  BuildingArea_tf  YearBuilt_tf  Propertycount_tf  \n",
       "0    -1.017960    -0.610273        -0.925948     -1.621641         -0.748531  \n",
       "1     0.740975    -0.702716         0.166533     -1.621641         -0.748531  \n",
       "2    -1.017960    -0.766689         0.061793      1.528799         -0.748531  "
      ]
     },
     "execution_count": 32,
     "metadata": {},
     "output_type": "execute_result"
    }
   ],
   "source": [
    "data[\"Propertycount_tf\"] = pro_tf\n",
    "data.head(3)"
   ]
  },
  {
   "cell_type": "markdown",
   "metadata": {},
   "source": [
    "# Lattitude feature"
   ]
  },
  {
   "cell_type": "code",
   "execution_count": 33,
   "metadata": {
    "scrolled": true
   },
   "outputs": [
    {
     "data": {
      "image/png": "[encoded data removed]",
      "text/plain": [
       "<Figure size 432x288 with 1 Axes>"
      ]
     },
     "metadata": {
      "needs_background": "light"
     },
     "output_type": "display_data"
    }
   ],
   "source": [
    "plt.hist(data.Lattitude,100, color=\"C1\",align='mid')\n",
    "plt.title(\"Histogram of Distance\")\n",
    "plt.show()"
   ]
  },
  {
   "cell_type": "markdown",
   "metadata": {},
   "source": [
    "# Longtitude feature"
   ]
  },
  {
   "cell_type": "code",
   "execution_count": 34,
   "metadata": {},
   "outputs": [
    {
     "data": {
      "image/png": "[encoded data removed]",
      "text/plain": [
       "<Figure size 432x288 with 1 Axes>"
      ]
     },
     "metadata": {
      "needs_background": "light"
     },
     "output_type": "display_data"
    }
   ],
   "source": [
    "plt.hist(data.Longtitude ,100, color=\"C1\",align='mid')\n",
    "plt.title(\"Histogram of Distance\")\n",
    "plt.show()"
   ]
  },
  {
   "cell_type": "code",
   "execution_count": 35,
   "metadata": {},
   "outputs": [],
   "source": [
    "# Now, I am going to find the relation ship between each feature with the target feature(Price)"
   ]
  },
  {
   "cell_type": "markdown",
   "metadata": {},
   "source": [
    "# Distance and Price"
   ]
  },
  {
   "cell_type": "code",
   "execution_count": 36,
   "metadata": {
    "scrolled": true
   },
   "outputs": [
    {
     "data": {
      "text/plain": [
       "Text(0, 0.5, 'Price')"
      ]
     },
     "execution_count": 36,
     "metadata": {},
     "output_type": "execute_result"
    },
    {
     "data": {
      "image/png": "[encoded data removed]",
      "text/plain": [
       "<Figure size 432x288 with 1 Axes>"
      ]
     },
     "metadata": {
      "needs_background": "light"
     },
     "output_type": "display_data"
    }
   ],
   "source": [
    "import matplotlib.pyplot as plt\n",
    "from sklearn.preprocessing import PowerTransformer\n",
    "\n",
    "plt.plot(data.Distance,data.Price,'yo')\n",
    "plt.xlabel('Distance')\n",
    "plt.ylabel('Price')"
   ]
  },
  {
   "cell_type": "code",
   "execution_count": 37,
   "metadata": {},
   "outputs": [],
   "source": [
    "# We can se that with a smaller distance the Price of the house will be bigger. I think with the small distance\n",
    "# the house will be nearer to the shopping mall, hospital, school, office,... or somethings like that. So It will\n",
    "# be more convenient for the onwer if their house near above places."
   ]
  },
  {
   "cell_type": "code",
   "execution_count": 38,
   "metadata": {
    "scrolled": false
   },
   "outputs": [
    {
     "name": "stdout",
     "output_type": "stream",
     "text": [
      "The correlation coefficient value of Distance feature and target Price:  0.23121166070024884\n"
     ]
    }
   ],
   "source": [
    "from sklearn import linear_model\n",
    "import math\n",
    "dis = data[['Distance']]\n",
    "price  = data['Price']\n",
    "\n",
    "dis_lm = linear_model.LinearRegression()\n",
    "dis_lm.fit(dis,price)\n",
    "\n",
    "# show the accuracy of Distance and Price\n",
    "print(\"The correlation coefficient value of Distance feature and target Price: \",\n",
    "      math.sqrt(dis_lm.score(dis,price)))\n",
    "\n",
    "#########\n",
    "bc = PowerTransformer(method='box-cox')\n"
   ]
  },
  {
   "cell_type": "markdown",
   "metadata": {},
   "source": [
    "# Bedroom2 and Price"
   ]
  },
  {
   "cell_type": "code",
   "execution_count": 39,
   "metadata": {
    "scrolled": false
   },
   "outputs": [
    {
     "data": {
      "text/plain": [
       "Text(0, 0.5, 'Price')"
      ]
     },
     "execution_count": 39,
     "metadata": {},
     "output_type": "execute_result"
    },
    {
     "data": {
      "image/png": "[encoded data removed]",
      "text/plain": [
       "<Figure size 432x288 with 1 Axes>"
      ]
     },
     "metadata": {
      "needs_background": "light"
     },
     "output_type": "display_data"
    }
   ],
   "source": [
    "plt.plot(data.Bedroom2,data.Price,'go')\n",
    "plt.xlabel('Bedroom2')\n",
    "plt.ylabel('Price')"
   ]
  },
  {
   "cell_type": "code",
   "execution_count": 40,
   "metadata": {
    "scrolled": true
   },
   "outputs": [
    {
     "data": {
      "text/plain": [
       "3.0     3837\n",
       "4.0     2183\n",
       "2.0     1965\n",
       "5.0      487\n",
       "1.0      348\n",
       "6.0       50\n",
       "7.0        5\n",
       "0.0        5\n",
       "9.0        3\n",
       "8.0        2\n",
       "12.0       1\n",
       "10.0       1\n",
       "Name: Bedroom2, dtype: int64"
      ]
     },
     "execution_count": 40,
     "metadata": {},
     "output_type": "execute_result"
    }
   ],
   "source": [
    "data.Bedroom2.value_counts()"
   ]
  },
  {
   "cell_type": "code",
   "execution_count": 41,
   "metadata": {},
   "outputs": [
    {
     "name": "stdout",
     "output_type": "stream",
     "text": [
      "The correlation coefficient value of Distance feature and target Price:  0.4608803704041086\n"
     ]
    }
   ],
   "source": [
    "bed = data[['Bedroom2']]\n",
    "price  = data['Price']\n",
    "\n",
    "dis_lm = linear_model.LinearRegression()\n",
    "dis_lm.fit(bed,price)\n",
    "\n",
    "# show the accuracy of Distance and Price\n",
    "print(\"The correlation coefficient value of Distance feature and target Price: \",\n",
    "      math.sqrt(dis_lm.score(bed,price)))"
   ]
  },
  {
   "cell_type": "markdown",
   "metadata": {},
   "source": [
    "# Landsize and Price"
   ]
  },
  {
   "cell_type": "code",
   "execution_count": 42,
   "metadata": {
    "scrolled": true
   },
   "outputs": [
    {
     "data": {
      "text/plain": [
       "Text(0, 0.5, 'Price')"
      ]
     },
     "execution_count": 42,
     "metadata": {},
     "output_type": "execute_result"
    },
    {
     "data": {
      "image/png": "[encoded data removed]",
      "text/plain": [
       "<Figure size 432x288 with 1 Axes>"
      ]
     },
     "metadata": {
      "needs_background": "light"
     },
     "output_type": "display_data"
    }
   ],
   "source": [
    "plt.plot(data.Landsize,data.Price,'go')\n",
    "plt.xlabel('Landsize')\n",
    "plt.ylabel('Price')"
   ]
  },
  {
   "cell_type": "code",
   "execution_count": 43,
   "metadata": {},
   "outputs": [
    {
     "name": "stdout",
     "output_type": "stream",
     "text": [
      "The correlation coefficient value of Distance feature and target Price:  0.05837480225919904\n"
     ]
    }
   ],
   "source": [
    "from sklearn import linear_model\n",
    "\n",
    "land = data[['Landsize']]\n",
    "price  = data['Price']\n",
    "\n",
    "dis_lm = linear_model.LinearRegression()\n",
    "dis_lm.fit(land,price)\n",
    "\n",
    "# show the accuracy of Distance and Price\n",
    "print(\"The correlation coefficient value of Distance feature and target Price: \",\n",
    "      math.sqrt(dis_lm.score(land,price)))"
   ]
  },
  {
   "cell_type": "markdown",
   "metadata": {},
   "source": [
    "# Lattitude +Longtitude and Price"
   ]
  },
  {
   "cell_type": "code",
   "execution_count": 44,
   "metadata": {},
   "outputs": [
    {
     "data": {
      "text/plain": [
       "Text(0, 0.5, 'Price')"
      ]
     },
     "execution_count": 44,
     "metadata": {},
     "output_type": "execute_result"
    },
    {
     "data": {
      "image/png": "[encoded data removed]",
      "text/plain": [
       "<Figure size 432x288 with 1 Axes>"
      ]
     },
     "metadata": {
      "needs_background": "light"
     },
     "output_type": "display_data"
    }
   ],
   "source": [
    "plt.plot(data.Lattitude,data.Price,'go')\n",
    "plt.xlabel('Lattitude')\n",
    "plt.ylabel('Price')"
   ]
  },
  {
   "cell_type": "code",
   "execution_count": 45,
   "metadata": {},
   "outputs": [
    {
     "name": "stdout",
     "output_type": "stream",
     "text": [
      "The correlation coefficient value of Lattitude feature and target Price:  0.22425526857714512\n"
     ]
    }
   ],
   "source": [
    "from sklearn import linear_model\n",
    "\n",
    "lat = data[['Lattitude']]\n",
    "price  = data['Price']\n",
    "\n",
    "lat_lm = linear_model.LinearRegression()\n",
    "lat_lm.fit(lat,price)\n",
    "\n",
    "# show the accuracy of Distance and Price\n",
    "print(\"The correlation coefficient value of Lattitude feature and target Price: \",\n",
    "      math.sqrt(lat_lm.score(lat,price)))"
   ]
  },
  {
   "cell_type": "code",
   "execution_count": 46,
   "metadata": {},
   "outputs": [
    {
     "data": {
      "text/plain": [
       "Text(0, 0.5, 'Price')"
      ]
     },
     "execution_count": 46,
     "metadata": {},
     "output_type": "execute_result"
    },
    {
     "data": {
      "image/png": "[encoded data removed]",
      "text/plain": [
       "<Figure size 432x288 with 1 Axes>"
      ]
     },
     "metadata": {
      "needs_background": "light"
     },
     "output_type": "display_data"
    }
   ],
   "source": [
    "plt.plot(data.Longtitude,data.Price,'go')\n",
    "plt.xlabel('Longtitude')\n",
    "plt.ylabel('Price')"
   ]
  },
  {
   "cell_type": "code",
   "execution_count": 47,
   "metadata": {},
   "outputs": [
    {
     "name": "stdout",
     "output_type": "stream",
     "text": [
      "The correlation coefficient value of Longtitude feature and target Price:  0.2121736623201465\n"
     ]
    }
   ],
   "source": [
    "from sklearn import linear_model\n",
    "import math\n",
    "long = data[['Longtitude']]\n",
    "price  = data['Price']\n",
    "\n",
    "long_lm = linear_model.LinearRegression()\n",
    "long_lm.fit(long,price)\n",
    "\n",
    "# show the accuracy of Distance and Price\n",
    "print(\"The correlation coefficient value of Longtitude feature and target Price: \",\n",
    "      math.sqrt(long_lm.score(long,price)))"
   ]
  },
  {
   "cell_type": "markdown",
   "metadata": {},
   "source": [
    "# Visualazition on Rooms feature effect Price target"
   ]
  },
  {
   "cell_type": "code",
   "execution_count": 48,
   "metadata": {},
   "outputs": [],
   "source": [
    "# First, we are going to see there are how many house for each number of rooms in this data"
   ]
  },
  {
   "cell_type": "code",
   "execution_count": 49,
   "metadata": {},
   "outputs": [
    {
     "name": "stdout",
     "output_type": "stream",
     "text": [
      "3     3824\n",
      "4     2240\n",
      "2     1912\n",
      "5      507\n",
      "1      340\n",
      "6       51\n",
      "7        7\n",
      "8        4\n",
      "12       1\n",
      "10       1\n",
      "Name: Rooms, dtype: int64\n"
     ]
    }
   ],
   "source": [
    "print(data.Rooms.value_counts())"
   ]
  },
  {
   "cell_type": "code",
   "execution_count": 50,
   "metadata": {},
   "outputs": [
    {
     "name": "stdout",
     "output_type": "stream",
     "text": [
      "The average Price the house which has 1 room 418665.4411764706\n",
      "The average Price the house which has 2 rooms 747038.2034518828\n",
      "The average Price the house which has 3 rooms 1034564.7107740586\n",
      "The average Price the house which has 4 rooms 1384634.8526785714\n",
      "The average Price the house which has 5 rooms 1881408.1992110454\n",
      "The average Price the house which has 6 rooms 2128098.0392156863\n",
      "The average Price the house which has 7 rooms 1914571.4285714286\n",
      "The average Price the house which has 8 rooms 1335500.0\n",
      "The average Price the house which has 10 rooms 2315000.0\n",
      "The average Price the house which has 12 rooms 710000.0\n"
     ]
    },
    {
     "data": {
      "image/png": "[encoded data removed]",
      "text/plain": [
       "<Figure size 432x288 with 1 Axes>"
      ]
     },
     "metadata": {
      "needs_background": "light"
     },
     "output_type": "display_data"
    }
   ],
   "source": [
    "room1 = []\n",
    "room2 = []\n",
    "room3 = []\n",
    "room4 = []\n",
    "room5 = []\n",
    "room6 = []\n",
    "room7 = []\n",
    "room8 = []\n",
    "room10 = []\n",
    "room12 = []\n",
    "for i in range(len(data.Rooms)):\n",
    "    if data.Rooms[i] == 1:\n",
    "        room1.append(data.Price[i])\n",
    "    elif data.Rooms[i] == 2:\n",
    "        room2.append(data.Price[i])\n",
    "    elif data.Rooms[i] == 3:\n",
    "        room3.append(data.Price[i])\n",
    "    elif data.Rooms[i] == 4:\n",
    "        room4.append(data.Price[i])\n",
    "    elif data.Rooms[i] == 5:\n",
    "        room5.append(data.Price[i])\n",
    "    elif data.Rooms[i] == 6:\n",
    "        room6.append(data.Price[i])\n",
    "    elif data.Rooms[i] == 7:\n",
    "        room7.append(data.Price[i])\n",
    "    elif data.Rooms[i] == 8:\n",
    "        room8.append(data.Price[i])\n",
    "    elif data.Rooms[i] == 10:\n",
    "        room10.append(data.Price[i])\n",
    "    elif data.Rooms[i] == 12:\n",
    "        room12.append(data.Price[i])\n",
    "    else:\n",
    "        pass\n",
    "\n",
    "def average(lst):\n",
    "    return sum(lst)/len(lst)\n",
    "\n",
    "print(\"The average Price the house which has 1 room\",average(room1))\n",
    "print(\"The average Price the house which has 2 rooms\",average(room2))\n",
    "print(\"The average Price the house which has 3 rooms\",average(room3))\n",
    "print(\"The average Price the house which has 4 rooms\",average(room4))\n",
    "print(\"The average Price the house which has 5 rooms\",average(room5))\n",
    "print(\"The average Price the house which has 6 rooms\",average(room6))\n",
    "print(\"The average Price the house which has 7 rooms\",average(room7))\n",
    "print(\"The average Price the house which has 8 rooms\",average(room8))\n",
    "print(\"The average Price the house which has 10 rooms\",average(room10))\n",
    "print(\"The average Price the house which has 12 rooms\",average(room12))\n",
    "\n",
    "import matplotlib.pyplot as plt\n",
    "fig = plt.figure()\n",
    "ax = fig.add_axes([0,0,1,1])\n",
    "langs = ['room1','room2','room3','room4','room5','room6','room7','room8','room10','room12']\n",
    "students = [average(room1),average(room2),average(room3),average(room4)\n",
    "               ,average(room5),average(room6),average(room7),average(room8),average(room10),average(room12)]\n",
    "ax.bar(langs,students)\n",
    "plt.show()"
   ]
  },
  {
   "cell_type": "code",
   "execution_count": 51,
   "metadata": {},
   "outputs": [
    {
     "data": {
      "text/plain": [
       "F_onewayResult(statistic=302.8184377807331, pvalue=0.0)"
      ]
     },
     "execution_count": 51,
     "metadata": {},
     "output_type": "execute_result"
    }
   ],
   "source": [
    "# applying oneway ANOVA test on Rooms feature\n",
    "from scipy.stats import f_oneway\n",
    "f_oneway(room1,room2,room3,room4,room5,room6,room7,room8,room10,room12)"
   ]
  },
  {
   "cell_type": "code",
   "execution_count": 52,
   "metadata": {},
   "outputs": [],
   "source": [
    "# First, we can make say that for each house has a difference number of rooms will has a difference price.\n",
    "# And base on this data, we can see that the house has 10 rooms whichs has the highest price."
   ]
  },
  {
   "cell_type": "markdown",
   "metadata": {},
   "source": [
    "# Visualazition on Car feature effect Price target"
   ]
  },
  {
   "cell_type": "code",
   "execution_count": 53,
   "metadata": {},
   "outputs": [],
   "source": [
    "# First, we are going to see there are how many houses for each number of cars in this data"
   ]
  },
  {
   "cell_type": "code",
   "execution_count": 54,
   "metadata": {
    "scrolled": true
   },
   "outputs": [
    {
     "name": "stdout",
     "output_type": "stream",
     "text": [
      "2.0     4014\n",
      "1.0     3318\n",
      "0.0      553\n",
      "3.0      523\n",
      "4.0      366\n",
      "6.0       50\n",
      "5.0       47\n",
      "7.0        8\n",
      "8.0        5\n",
      "10.0       2\n",
      "9.0        1\n",
      "Name: Car, dtype: int64\n"
     ]
    }
   ],
   "source": [
    "print(data.Car.value_counts())"
   ]
  },
  {
   "cell_type": "code",
   "execution_count": 55,
   "metadata": {
    "scrolled": true
   },
   "outputs": [
    {
     "name": "stdout",
     "output_type": "stream",
     "text": [
      "Car0:  553\n",
      "Car1:  3318\n",
      "Car2:  4014\n",
      "Car3:  523\n",
      "Car4:  366\n",
      "Car5:  47\n",
      "Car6:  50\n",
      "Car7:  8\n",
      "Car8:  5\n",
      "Car9:  1\n",
      "Car10:  2\n",
      "The average Price the house which has 0 car 1101447.1971066908\n",
      "The average Price the house which has 1 car 872215.2278481013\n",
      "The average Price the house which has 2 cars 1201276.6791230692\n",
      "The average Price the house which has 3 cars 1356369.326959847\n",
      "The average Price the house which has 4 cars 1422464.7595628416\n",
      "The average Price the house which has 5 cars 1425340.425531915\n",
      "The average Price the house which has 6 cars 1286270.0\n",
      "The average Price the house which has 7 cars 2005000.0\n",
      "The average Price the house which has 8 cars 1219400.0\n",
      "The average Price the house which has 10 cars 2100000.0\n",
      "The average Price the house which has 12 cars 1018500.0\n"
     ]
    },
    {
     "data": {
      "image/png": "[encoded data removed]",
      "text/plain": [
       "<Figure size 432x288 with 1 Axes>"
      ]
     },
     "metadata": {
      "needs_background": "light"
     },
     "output_type": "display_data"
    }
   ],
   "source": [
    "car0 = []\n",
    "car1 = []\n",
    "car2 = []\n",
    "car3 = []\n",
    "car4 = []\n",
    "car5 = []\n",
    "car6 = []\n",
    "car7 = []\n",
    "car8 = []\n",
    "car9 = []\n",
    "car10 = []\n",
    "\n",
    "for i in range(len(data.Car)):\n",
    "    if data.Car[i] == 0:\n",
    "        car0.append(data.Price[i])\n",
    "    elif data.Car[i] == 1:\n",
    "        car1.append(data.Price[i])\n",
    "    elif data.Car[i] == 2:\n",
    "        car2.append(data.Price[i])\n",
    "    elif data.Car[i] == 3:\n",
    "        car3.append(data.Price[i])\n",
    "    elif data.Car[i] == 4:\n",
    "        car4.append(data.Price[i])\n",
    "    elif data.Car[i] == 5:\n",
    "        car5.append(data.Price[i])\n",
    "    elif data.Car[i] == 6:\n",
    "        car6.append(data.Price[i])\n",
    "    elif data.Car[i] == 7:\n",
    "        car7.append(data.Price[i])\n",
    "    elif data.Car[i] == 8:\n",
    "        car8.append(data.Price[i])\n",
    "    elif data.Car[i] == 9:\n",
    "        car9.append(data.Price[i])\n",
    "    elif data.Car[i] == 10:\n",
    "        car10.append(data.Price[i])\n",
    "    else:\n",
    "        pass\n",
    "print(\"Car0: \",len(car0))\n",
    "print(\"Car1: \",len(car1))\n",
    "print(\"Car2: \",len(car2))\n",
    "print(\"Car3: \",len(car3))\n",
    "print(\"Car4: \",len(car4))\n",
    "print(\"Car5: \",len(car5))\n",
    "print(\"Car6: \",len(car6))\n",
    "print(\"Car7: \",len(car7))\n",
    "print(\"Car8: \",len(car8))\n",
    "print(\"Car9: \",len(car9))\n",
    "print(\"Car10: \",len(car10))\n",
    "    \n",
    "def average(lst):\n",
    "    return sum(lst)/len(lst)\n",
    "\n",
    "print(\"The average Price the house which has 0 car\",average(car0))\n",
    "print(\"The average Price the house which has 1 car\",average(car1))\n",
    "print(\"The average Price the house which has 2 cars\",average(car2))\n",
    "print(\"The average Price the house which has 3 cars\",average(car3))\n",
    "print(\"The average Price the house which has 4 cars\",average(car4))\n",
    "print(\"The average Price the house which has 5 cars\",average(car5))\n",
    "print(\"The average Price the house which has 6 cars\",average(car6))\n",
    "print(\"The average Price the house which has 7 cars\",average(car7))\n",
    "print(\"The average Price the house which has 8 cars\",average(car8))\n",
    "print(\"The average Price the house which has 10 cars\",average(car9))\n",
    "print(\"The average Price the house which has 12 cars\",average(car10))\n",
    "\n",
    "import matplotlib.pyplot as plt\n",
    "fig = plt.figure()\n",
    "ax = fig.add_axes([0,0,1,1])\n",
    "langs = ['car0','car1','car2','car3','car4','car5','car6','car7','car8','car9','car10']\n",
    "students = [average(car0),average(car1),average(car2),average(car3),average(car4),\n",
    "            average(car5),average(car6),average(car7),average(car8),average(car9),\n",
    "            average(car10)]\n",
    "ax.bar(langs,students)\n",
    "plt.show()"
   ]
  },
  {
   "cell_type": "code",
   "execution_count": 56,
   "metadata": {},
   "outputs": [
    {
     "data": {
      "text/plain": [
       "F_onewayResult(statistic=69.9620862763524, pvalue=2.7462338493202787e-138)"
      ]
     },
     "execution_count": 56,
     "metadata": {},
     "output_type": "execute_result"
    }
   ],
   "source": [
    "# applying oneway ANOVA test on Car feature\n",
    "from scipy.stats import f_oneway\n",
    "f_oneway(car0,car1,car2,car3,car4,car5,car6,car7,car8,car9,car10)"
   ]
  },
  {
   "cell_type": "code",
   "execution_count": 57,
   "metadata": {},
   "outputs": [],
   "source": [
    "# First, we can make say that for each house has a difference number of cars will has a difference price.\n",
    "# And base on this data, we can see that the house has 9 cars whichs has the highest price."
   ]
  },
  {
   "cell_type": "markdown",
   "metadata": {},
   "source": [
    "# 2. Apply the model for prediction with holdout and cross validation"
   ]
  },
  {
   "cell_type": "markdown",
   "metadata": {},
   "source": [
    "# a. Holdout"
   ]
  },
  {
   "cell_type": "code",
   "execution_count": 58,
   "metadata": {},
   "outputs": [
    {
     "data": {
      "text/html": [
       "<div>\n",
       "<style scoped>\n",
       "    .dataframe tbody tr th:only-of-type {\n",
       "        vertical-align: middle;\n",
       "    }\n",
       "\n",
       "    .dataframe tbody tr th {\n",
       "        vertical-align: top;\n",
       "    }\n",
       "\n",
       "    .dataframe thead th {\n",
       "        text-align: right;\n",
       "    }\n",
       "</style>\n",
       "<table border=\"1\" class=\"dataframe\">\n",
       "  <thead>\n",
       "    <tr style=\"text-align: right;\">\n",
       "      <th></th>\n",
       "      <th>Rooms</th>\n",
       "      <th>Price</th>\n",
       "      <th>Distance_tf</th>\n",
       "      <th>Bedroom2</th>\n",
       "      <th>Bathroom_tf</th>\n",
       "      <th>Car</th>\n",
       "      <th>Landsize_tf</th>\n",
       "      <th>BuildingArea_tf</th>\n",
       "      <th>YearBuilt_tf</th>\n",
       "      <th>Propertycount_tf</th>\n",
       "      <th>Lattitude</th>\n",
       "      <th>Longtitude</th>\n",
       "    </tr>\n",
       "  </thead>\n",
       "  <tbody>\n",
       "    <tr>\n",
       "      <th>0</th>\n",
       "      <td>2</td>\n",
       "      <td>1035000.0</td>\n",
       "      <td>-1.898121</td>\n",
       "      <td>2.0</td>\n",
       "      <td>-1.017960</td>\n",
       "      <td>0.0</td>\n",
       "      <td>-0.610273</td>\n",
       "      <td>-0.925948</td>\n",
       "      <td>-1.621641</td>\n",
       "      <td>-0.748531</td>\n",
       "      <td>-37.8079</td>\n",
       "      <td>144.9934</td>\n",
       "    </tr>\n",
       "    <tr>\n",
       "      <th>1</th>\n",
       "      <td>3</td>\n",
       "      <td>1465000.0</td>\n",
       "      <td>-1.898121</td>\n",
       "      <td>3.0</td>\n",
       "      <td>0.740975</td>\n",
       "      <td>0.0</td>\n",
       "      <td>-0.702716</td>\n",
       "      <td>0.166533</td>\n",
       "      <td>-1.621641</td>\n",
       "      <td>-0.748531</td>\n",
       "      <td>-37.8093</td>\n",
       "      <td>144.9944</td>\n",
       "    </tr>\n",
       "    <tr>\n",
       "      <th>2</th>\n",
       "      <td>4</td>\n",
       "      <td>1600000.0</td>\n",
       "      <td>-1.898121</td>\n",
       "      <td>3.0</td>\n",
       "      <td>-1.017960</td>\n",
       "      <td>2.0</td>\n",
       "      <td>-0.766689</td>\n",
       "      <td>0.061793</td>\n",
       "      <td>1.528799</td>\n",
       "      <td>-0.748531</td>\n",
       "      <td>-37.8072</td>\n",
       "      <td>144.9941</td>\n",
       "    </tr>\n",
       "    <tr>\n",
       "      <th>3</th>\n",
       "      <td>3</td>\n",
       "      <td>1876000.0</td>\n",
       "      <td>-1.898121</td>\n",
       "      <td>4.0</td>\n",
       "      <td>0.740975</td>\n",
       "      <td>0.0</td>\n",
       "      <td>-0.303709</td>\n",
       "      <td>0.862293</td>\n",
       "      <td>-1.441736</td>\n",
       "      <td>-0.748531</td>\n",
       "      <td>-37.8024</td>\n",
       "      <td>144.9993</td>\n",
       "    </tr>\n",
       "    <tr>\n",
       "      <th>4</th>\n",
       "      <td>2</td>\n",
       "      <td>1636000.0</td>\n",
       "      <td>-1.898121</td>\n",
       "      <td>2.0</td>\n",
       "      <td>-1.017960</td>\n",
       "      <td>2.0</td>\n",
       "      <td>-0.271119</td>\n",
       "      <td>-0.443935</td>\n",
       "      <td>-1.788000</td>\n",
       "      <td>-0.748531</td>\n",
       "      <td>-37.8060</td>\n",
       "      <td>144.9954</td>\n",
       "    </tr>\n",
       "  </tbody>\n",
       "</table>\n",
       "</div>"
      ],
      "text/plain": [
       "   Rooms      Price  Distance_tf  Bedroom2  Bathroom_tf  Car  Landsize_tf  \\\n",
       "0      2  1035000.0    -1.898121       2.0    -1.017960  0.0    -0.610273   \n",
       "1      3  1465000.0    -1.898121       3.0     0.740975  0.0    -0.702716   \n",
       "2      4  1600000.0    -1.898121       3.0    -1.017960  2.0    -0.766689   \n",
       "3      3  1876000.0    -1.898121       4.0     0.740975  0.0    -0.303709   \n",
       "4      2  1636000.0    -1.898121       2.0    -1.017960  2.0    -0.271119   \n",
       "\n",
       "   BuildingArea_tf  YearBuilt_tf  Propertycount_tf  Lattitude  Longtitude  \n",
       "0        -0.925948     -1.621641         -0.748531   -37.8079    144.9934  \n",
       "1         0.166533     -1.621641         -0.748531   -37.8093    144.9944  \n",
       "2         0.061793      1.528799         -0.748531   -37.8072    144.9941  \n",
       "3         0.862293     -1.441736         -0.748531   -37.8024    144.9993  \n",
       "4        -0.443935     -1.788000         -0.748531   -37.8060    144.9954  "
      ]
     },
     "execution_count": 58,
     "metadata": {},
     "output_type": "execute_result"
    }
   ],
   "source": [
    "df = data[['Rooms', 'Price','Distance_tf','Bedroom2','Bathroom_tf','Car','Landsize_tf','BuildingArea_tf',\n",
    "          'YearBuilt_tf','Propertycount_tf','Lattitude','Longtitude']]\n",
    "df.head(5)"
   ]
  },
  {
   "cell_type": "code",
   "execution_count": 59,
   "metadata": {},
   "outputs": [
    {
     "name": "stdout",
     "output_type": "stream",
     "text": [
      "8887\n",
      "8887\n",
      "Train data:  (7109, 11) (7109,)\n",
      "Test data:  (1778, 11) (1778,)\n"
     ]
    }
   ],
   "source": [
    "from sklearn.model_selection import train_test_split\n",
    "from sklearn import linear_model\n",
    "import matplotlib.pyplot as plt\n",
    "from sklearn.preprocessing import PowerTransformer\n",
    "\n",
    "# first, store target data to a variable y\n",
    "y = df['Price']\n",
    "print(len(y))\n",
    "\n",
    "# second, store feature data to a variable x\n",
    "x = df[['Rooms','Distance_tf','Bedroom2','Bathroom_tf',\n",
    "          'Car','Landsize_tf','BuildingArea_tf','YearBuilt_tf','Propertycount_tf','Lattitude','Longtitude']]\n",
    "print(len(x))\n",
    "\n",
    "# create testing and training sets for hold-out verification using scikit learn method\n",
    "X_train, X_test, y_train, y_test = train_test_split( x, y, test_size = 0.2)\n",
    "\n",
    "# validate set shapes\n",
    "print(\"Train data: \",X_train.shape, y_train.shape)\n",
    "print(\"Test data: \",X_test.shape, y_test.shape)"
   ]
  },
  {
   "cell_type": "code",
   "execution_count": 60,
   "metadata": {
    "scrolled": true
   },
   "outputs": [
    {
     "name": "stdout",
     "output_type": "stream",
     "text": [
      "Accuracy:  0.595185553282137\n"
     ]
    },
    {
     "data": {
      "text/plain": [
       "Text(0, 0.5, 'y_test')"
      ]
     },
     "execution_count": 60,
     "metadata": {},
     "output_type": "execute_result"
    },
    {
     "data": {
      "image/png": "[encoded data removed]",
      "text/plain": [
       "<Figure size 432x288 with 1 Axes>"
      ]
     },
     "metadata": {
      "needs_background": "light"
     },
     "output_type": "display_data"
    }
   ],
   "source": [
    "# fit a model using linear model method from sklearn\n",
    "lm = linear_model.LinearRegression()\n",
    "model = lm.fit(X_train, y_train)\n",
    "\n",
    "# generate predictions\n",
    "predictions = lm.predict(X_test)\n",
    "\n",
    "# show the accuracy of the model\n",
    "print(\"Accuracy: \",lm.score(X_train, y_train))\n",
    "\n",
    "# show predictions and y_test values\n",
    "#print(predictions)\n",
    "#print(y_test)\n",
    "\n",
    "# calculate the error betwwen predicted values and y_test values\n",
    "error = y_test - predictions\n",
    "#print(len(a))\n",
    "plt.plot(predictions,y_test,'ro')\n",
    "plt.xlabel('predictions')\n",
    "plt.ylabel('y_test')"
   ]
  },
  {
   "cell_type": "code",
   "execution_count": 61,
   "metadata": {},
   "outputs": [
    {
     "data": {
      "text/plain": [
       "Text(0, 0.5, 'error')"
      ]
     },
     "execution_count": 61,
     "metadata": {},
     "output_type": "execute_result"
    },
    {
     "data": {
      "image/png": "[encoded data removed]",
      "text/plain": [
       "<Figure size 432x288 with 1 Axes>"
      ]
     },
     "metadata": {
      "needs_background": "light"
     },
     "output_type": "display_data"
    }
   ],
   "source": [
    "plt.plot(error,'ro')\n",
    "plt.ylabel('error')"
   ]
  },
  {
   "cell_type": "markdown",
   "metadata": {},
   "source": [
    "# b. Cross validation"
   ]
  },
  {
   "cell_type": "code",
   "execution_count": 62,
   "metadata": {},
   "outputs": [],
   "source": [
    "# I am going to create the train data for cross validation\n",
    "k_y = y\n",
    "k_x = np.array(x)\n",
    "#print(k_y)\n",
    "#print(k_x)"
   ]
  },
  {
   "cell_type": "code",
   "execution_count": 87,
   "metadata": {},
   "outputs": [
    {
     "name": "stdout",
     "output_type": "stream",
     "text": [
      "Score of k=10:  [0.58569783 0.67935349 0.64553068 0.55071415 0.58332888 0.55878209\n",
      " 0.40516773 0.478628   0.54785257 0.60029024]\n",
      "Accuracy: 0.56 (+/- 0.15)\n"
     ]
    }
   ],
   "source": [
    "# use cross_val_predict to generate K-Fold predictions\n",
    "from sklearn.model_selection import cross_val_predict\n",
    "from sklearn.model_selection import cross_val_score\n",
    "\n",
    "# apply linear regression with cross validation(k = 10)\n",
    "lm_k = linear_model.LinearRegression()\n",
    "k_predictions = cross_val_predict(lm_k, k_x, k_y, cv=10)\n",
    "\n",
    "#print(k_predictions)\n",
    "#print(k_y)\n",
    "\n",
    "# show the accuracy of each model and the average accuracy of the model\n",
    "k_score = cross_val_score(lm_k, k_x, k_y, cv=10)\n",
    "print(\"Score of k=10: \",k_score)\n",
    "print(\"Accuracy: %0.2f (+/- %0.2f)\" % (k_score.mean(), k_score.std() * 2))"
   ]
  },
  {
   "cell_type": "code",
   "execution_count": 89,
   "metadata": {},
   "outputs": [
    {
     "data": {
      "text/plain": [
       "Text(0, 0.5, 'k_y')"
      ]
     },
     "execution_count": 89,
     "metadata": {},
     "output_type": "execute_result"
    },
    {
     "data": {
      "image/png": "[encoded data removed]",
      "text/plain": [
       "<Figure size 432x288 with 1 Axes>"
      ]
     },
     "metadata": {
      "needs_background": "light"
     },
     "output_type": "display_data"
    }
   ],
   "source": [
    "plt.plot(k_predictions,k_y,'bs')\n",
    "plt.xlabel('k-predictions')\n",
    "plt.ylabel('k_y')"
   ]
  },
  {
   "cell_type": "code",
   "execution_count": 86,
   "metadata": {
    "scrolled": true
   },
   "outputs": [
    {
     "data": {
      "text/plain": [
       "Text(0, 0.5, 'error')"
      ]
     },
     "execution_count": 86,
     "metadata": {},
     "output_type": "execute_result"
    },
    {
     "data": {
      "image/png": "[encoded data removed]",
      "text/plain": [
       "<Figure size 432x288 with 1 Axes>"
      ]
     },
     "metadata": {
      "needs_background": "light"
     },
     "output_type": "display_data"
    }
   ],
   "source": [
    "k_error = k_y - k_predictions\n",
    "plt.plot(k_error,'bs')\n",
    "plt.ylabel('error')"
   ]
  },
  {
   "cell_type": "markdown",
   "metadata": {},
   "source": [
    "# 3. Using PCA, apply the model with holdout and cross validation"
   ]
  },
  {
   "cell_type": "markdown",
   "metadata": {},
   "source": [
    "# a. Holdout using PCA"
   ]
  },
  {
   "cell_type": "code",
   "execution_count": 66,
   "metadata": {},
   "outputs": [
    {
     "data": {
      "text/html": [
       "<div>\n",
       "<style scoped>\n",
       "    .dataframe tbody tr th:only-of-type {\n",
       "        vertical-align: middle;\n",
       "    }\n",
       "\n",
       "    .dataframe tbody tr th {\n",
       "        vertical-align: top;\n",
       "    }\n",
       "\n",
       "    .dataframe thead th {\n",
       "        text-align: right;\n",
       "    }\n",
       "</style>\n",
       "<table border=\"1\" class=\"dataframe\">\n",
       "  <thead>\n",
       "    <tr style=\"text-align: right;\">\n",
       "      <th></th>\n",
       "      <th>Rooms</th>\n",
       "      <th>Price</th>\n",
       "      <th>Distance_tf</th>\n",
       "      <th>Bedroom2</th>\n",
       "      <th>Bathroom_tf</th>\n",
       "      <th>Car</th>\n",
       "      <th>Landsize_tf</th>\n",
       "      <th>BuildingArea_tf</th>\n",
       "      <th>YearBuilt_tf</th>\n",
       "      <th>Propertycount_tf</th>\n",
       "      <th>Lattitude</th>\n",
       "      <th>Longtitude</th>\n",
       "    </tr>\n",
       "  </thead>\n",
       "  <tbody>\n",
       "    <tr>\n",
       "      <th>0</th>\n",
       "      <td>2</td>\n",
       "      <td>1035000.0</td>\n",
       "      <td>-1.898121</td>\n",
       "      <td>2.0</td>\n",
       "      <td>-1.017960</td>\n",
       "      <td>0.0</td>\n",
       "      <td>-0.610273</td>\n",
       "      <td>-0.925948</td>\n",
       "      <td>-1.621641</td>\n",
       "      <td>-0.748531</td>\n",
       "      <td>-37.8079</td>\n",
       "      <td>144.9934</td>\n",
       "    </tr>\n",
       "    <tr>\n",
       "      <th>1</th>\n",
       "      <td>3</td>\n",
       "      <td>1465000.0</td>\n",
       "      <td>-1.898121</td>\n",
       "      <td>3.0</td>\n",
       "      <td>0.740975</td>\n",
       "      <td>0.0</td>\n",
       "      <td>-0.702716</td>\n",
       "      <td>0.166533</td>\n",
       "      <td>-1.621641</td>\n",
       "      <td>-0.748531</td>\n",
       "      <td>-37.8093</td>\n",
       "      <td>144.9944</td>\n",
       "    </tr>\n",
       "    <tr>\n",
       "      <th>2</th>\n",
       "      <td>4</td>\n",
       "      <td>1600000.0</td>\n",
       "      <td>-1.898121</td>\n",
       "      <td>3.0</td>\n",
       "      <td>-1.017960</td>\n",
       "      <td>2.0</td>\n",
       "      <td>-0.766689</td>\n",
       "      <td>0.061793</td>\n",
       "      <td>1.528799</td>\n",
       "      <td>-0.748531</td>\n",
       "      <td>-37.8072</td>\n",
       "      <td>144.9941</td>\n",
       "    </tr>\n",
       "    <tr>\n",
       "      <th>3</th>\n",
       "      <td>3</td>\n",
       "      <td>1876000.0</td>\n",
       "      <td>-1.898121</td>\n",
       "      <td>4.0</td>\n",
       "      <td>0.740975</td>\n",
       "      <td>0.0</td>\n",
       "      <td>-0.303709</td>\n",
       "      <td>0.862293</td>\n",
       "      <td>-1.441736</td>\n",
       "      <td>-0.748531</td>\n",
       "      <td>-37.8024</td>\n",
       "      <td>144.9993</td>\n",
       "    </tr>\n",
       "    <tr>\n",
       "      <th>4</th>\n",
       "      <td>2</td>\n",
       "      <td>1636000.0</td>\n",
       "      <td>-1.898121</td>\n",
       "      <td>2.0</td>\n",
       "      <td>-1.017960</td>\n",
       "      <td>2.0</td>\n",
       "      <td>-0.271119</td>\n",
       "      <td>-0.443935</td>\n",
       "      <td>-1.788000</td>\n",
       "      <td>-0.748531</td>\n",
       "      <td>-37.8060</td>\n",
       "      <td>144.9954</td>\n",
       "    </tr>\n",
       "  </tbody>\n",
       "</table>\n",
       "</div>"
      ],
      "text/plain": [
       "   Rooms      Price  Distance_tf  Bedroom2  Bathroom_tf  Car  Landsize_tf  \\\n",
       "0      2  1035000.0    -1.898121       2.0    -1.017960  0.0    -0.610273   \n",
       "1      3  1465000.0    -1.898121       3.0     0.740975  0.0    -0.702716   \n",
       "2      4  1600000.0    -1.898121       3.0    -1.017960  2.0    -0.766689   \n",
       "3      3  1876000.0    -1.898121       4.0     0.740975  0.0    -0.303709   \n",
       "4      2  1636000.0    -1.898121       2.0    -1.017960  2.0    -0.271119   \n",
       "\n",
       "   BuildingArea_tf  YearBuilt_tf  Propertycount_tf  Lattitude  Longtitude  \n",
       "0        -0.925948     -1.621641         -0.748531   -37.8079    144.9934  \n",
       "1         0.166533     -1.621641         -0.748531   -37.8093    144.9944  \n",
       "2         0.061793      1.528799         -0.748531   -37.8072    144.9941  \n",
       "3         0.862293     -1.441736         -0.748531   -37.8024    144.9993  \n",
       "4        -0.443935     -1.788000         -0.748531   -37.8060    144.9954  "
      ]
     },
     "execution_count": 66,
     "metadata": {},
     "output_type": "execute_result"
    }
   ],
   "source": [
    "df_pca = data[['Rooms', 'Price','Distance_tf','Bedroom2','Bathroom_tf','Car','Landsize_tf','BuildingArea_tf',\n",
    "          'YearBuilt_tf','Propertycount_tf','Lattitude','Longtitude']]\n",
    "df_pca.head(5)"
   ]
  },
  {
   "cell_type": "code",
   "execution_count": 90,
   "metadata": {
    "scrolled": false
   },
   "outputs": [
    {
     "name": "stdout",
     "output_type": "stream",
     "text": [
      "8887\n",
      "8887\n"
     ]
    }
   ],
   "source": [
    "from sklearn import decomposition\n",
    "\n",
    "y_pca = df_pca['Price']\n",
    "print(len(y))\n",
    "#print(y_pca)\n",
    "\n",
    "# second, store feature data to a variable x\n",
    "x_pca = df_pca[['Rooms','Distance_tf','Bedroom2','Bathroom_tf',\n",
    "          'Car','Landsize_tf','BuildingArea_tf','YearBuilt_tf','Propertycount_tf','Lattitude','Longtitude']]\n",
    "print(len(x))\n",
    "#print(x_pca)\n",
    "\n",
    "pca = decomposition.PCA(n_components=11)\n",
    "pca.fit(x_pca)\n",
    "x_pca_after = pca.transform(x_pca)\n",
    "#print(x_pca_after)"
   ]
  },
  {
   "cell_type": "code",
   "execution_count": 75,
   "metadata": {},
   "outputs": [
    {
     "name": "stdout",
     "output_type": "stream",
     "text": [
      "Train data:  (7109, 11) (7109,)\n",
      "Test data:  (1778, 11) (1778,)\n"
     ]
    }
   ],
   "source": [
    "from sklearn.model_selection import train_test_split\n",
    "from sklearn import linear_model\n",
    "\n",
    "# create testing and training sets for hold-out verification using scikit learn method\n",
    "X_train_pca, X_test_pca, y_train_pca, y_test_pca = train_test_split( x_pca_after, y_pca, test_size = 0.2)\n",
    "\n",
    "# validate set shapes\n",
    "print(\"Train data: \",X_train_pca.shape, y_train_pca.shape)\n",
    "print(\"Test data: \",X_test_pca.shape, y_test_pca.shape)"
   ]
  },
  {
   "cell_type": "code",
   "execution_count": 77,
   "metadata": {},
   "outputs": [
    {
     "name": "stdout",
     "output_type": "stream",
     "text": [
      "Accuracy after applying PCA:  0.5794920326554243\n"
     ]
    },
    {
     "data": {
      "text/plain": [
       "Text(0, 0.5, 'y_test')"
      ]
     },
     "execution_count": 77,
     "metadata": {},
     "output_type": "execute_result"
    },
    {
     "data": {
      "image/png": "[encoded data removed]",
      "text/plain": [
       "<Figure size 432x288 with 1 Axes>"
      ]
     },
     "metadata": {
      "needs_background": "light"
     },
     "output_type": "display_data"
    }
   ],
   "source": [
    "# fit a model using linear model method from sklearn\n",
    "lm_pca = linear_model.LinearRegression()\n",
    "model_pca = lm_pca.fit(X_train_pca, y_train_pca)\n",
    "\n",
    "# generate predictions\n",
    "predictions_pca = lm_pca.predict(X_test_pca)\n",
    "\n",
    "# show the accuracy of the model\n",
    "print(\"Accuracy after applying PCA: \",lm_pca.score(X_train_pca, y_train_pca))\n",
    "\n",
    "# show predictions and y_test values\n",
    "#print(predictions)\n",
    "#print(y_test)\n",
    "\n",
    "# calculate the error betwwen predicted values and y_test values\n",
    "error_pca = y_test_pca - predictions_pca\n",
    "#print(len(a))\n",
    "plt.plot(predictions_pca,y_test_pca,'ro')\n",
    "plt.xlabel('predictions')\n",
    "plt.ylabel('y_test')"
   ]
  },
  {
   "cell_type": "code",
   "execution_count": 79,
   "metadata": {},
   "outputs": [
    {
     "data": {
      "text/plain": [
       "Text(0, 0.5, 'error')"
      ]
     },
     "execution_count": 79,
     "metadata": {},
     "output_type": "execute_result"
    },
    {
     "data": {
      "image/png": "[encoded data removed]",
      "text/plain": [
       "<Figure size 432x288 with 1 Axes>"
      ]
     },
     "metadata": {
      "needs_background": "light"
     },
     "output_type": "display_data"
    }
   ],
   "source": [
    "plt.plot(error_pca,'ro')\n",
    "plt.ylabel('error')"
   ]
  },
  {
   "cell_type": "markdown",
   "metadata": {},
   "source": [
    "# b. Cross validation using PCA"
   ]
  },
  {
   "cell_type": "code",
   "execution_count": 81,
   "metadata": {},
   "outputs": [
    {
     "name": "stdout",
     "output_type": "stream",
     "text": [
      "Score of k=10:  [0.58569783 0.67935349 0.64553068 0.55071415 0.58332888 0.55878209\n",
      " 0.40516773 0.478628   0.54785257 0.60029024]\n",
      "Accuracy: 0.56 (+/- 0.15)\n"
     ]
    }
   ],
   "source": [
    "# I am going to create the train data for cross validation\n",
    "k_y_pca = y_pca\n",
    "k_x_pca = np.array(x_pca)\n",
    "#print(k_y)\n",
    "#print(k_x)\n",
    "# use cross_val_predict to generate K-Fold predictions\n",
    "from sklearn.model_selection import cross_val_predict\n",
    "from sklearn.model_selection import cross_val_score\n",
    "\n",
    "# apply linear regression with cross validation(k = 10)\n",
    "lm_k_pca = linear_model.LinearRegression()\n",
    "k_predictions_pca = cross_val_predict(lm_k_pca, k_x_pca, k_y_pca, cv=10)\n",
    "\n",
    "#print(k_predictions)\n",
    "#print(k_y)\n",
    "\n",
    "# show the accuracy of each model and the average accuracy of the model\n",
    "k_score_pca = cross_val_score(lm_k_pca, k_x_pca, k_y_pca, cv=10)\n",
    "print(\"Score of k=10: \",k_score_pca)\n",
    "print(\"Accuracy: %0.2f (+/- %0.2f)\" % (k_score_pca.mean(), k_score_pca.std() * 2))"
   ]
  },
  {
   "cell_type": "code",
   "execution_count": 84,
   "metadata": {},
   "outputs": [
    {
     "data": {
      "text/plain": [
       "Text(0, 0.5, 'k_y')"
      ]
     },
     "execution_count": 84,
     "metadata": {},
     "output_type": "execute_result"
    },
    {
     "data": {
      "image/png": "[encoded data removed]",
      "text/plain": [
       "<Figure size 432x288 with 1 Axes>"
      ]
     },
     "metadata": {
      "needs_background": "light"
     },
     "output_type": "display_data"
    }
   ],
   "source": [
    "plt.plot(k_predictions_pca,k_y_pca,'bs')\n",
    "plt.xlabel('k-predictions')\n",
    "plt.ylabel('k_y')"
   ]
  },
  {
   "cell_type": "code",
   "execution_count": 85,
   "metadata": {},
   "outputs": [
    {
     "data": {
      "text/plain": [
       "Text(0, 0.5, 'error')"
      ]
     },
     "execution_count": 85,
     "metadata": {},
     "output_type": "execute_result"
    },
    {
     "data": {
      "image/png": "[encoded data removed]",
      "text/plain": [
       "<Figure size 432x288 with 1 Axes>"
      ]
     },
     "metadata": {
      "needs_background": "light"
     },
     "output_type": "display_data"
    }
   ],
   "source": [
    "k_error_pca = k_y_pca - k_predictions_pca\n",
    "plt.plot(k_error_pca,'bs')\n",
    "plt.ylabel('error')"
   ]
  },
  {
   "cell_type": "markdown",
   "metadata": {},
   "source": [
    "# 4. Visualize the residue and homoscedasticity"
   ]
  },
  {
   "cell_type": "code",
   "execution_count": null,
   "metadata": {},
   "outputs": [],
   "source": []
  }
 ],
 "metadata": {
  "kernelspec": {
   "display_name": "Python 3",
   "language": "python",
   "name": "python3"
  },
  "language_info": {
   "codemirror_mode": {
    "name": "ipython",
    "version": 3
   },
   "file_extension": ".py",
   "mimetype": "text/x-python",
   "name": "python",
   "nbconvert_exporter": "python",
   "pygments_lexer": "ipython3",
   "version": "3.7.3"
  }
 },
 "nbformat": 4,
 "nbformat_minor": 2
}
